{
 "cells": [
  {
   "cell_type": "markdown",
   "metadata": {},
   "source": [
    "# Test 6"
   ]
  },
  {
   "cell_type": "markdown",
   "metadata": {},
   "source": [
    "should be answered by building and calibrating a 10-period Black-Derman-Toy model for the short-rate.\n",
    "\n",
    "Period 1 2 3 4 5 6 7 8 9 10\n",
    "\n",
    "Spot Rate 3.0% 3.1% 3.2% 3.3% 3.4% 3.5% 3.55% 3.6% 3.65% 3.7%\n",
    "\n",
    "Assume that $Z^6_0 = \\frac{100}{(1+r_6)^6}$\n"
   ]
  },
  {
   "cell_type": "code",
   "execution_count": 1,
   "metadata": {},
   "outputs": [],
   "source": [
    "SPOT_RATES = [.03, .031, .032, .033, .034, .035, .0355, .036, .0365, .037]\n",
    "TEST_RATES = [.073, .0762, .081, .0845, .092, .0964, .1012, .1045, .1122, .1155, .1192, .122, .1232]"
   ]
  },
  {
   "cell_type": "code",
   "execution_count": 2,
   "metadata": {},
   "outputs": [],
   "source": [
    "from utils import *"
   ]
  },
  {
   "cell_type": "code",
   "execution_count": 3,
   "metadata": {},
   "outputs": [],
   "source": [
    "bdt = BlackDermanToy(SPOT_RATES, b=0.05)\n",
    "a = bdt.calibrate()"
   ]
  },
  {
   "cell_type": "code",
   "execution_count": 4,
   "metadata": {},
   "outputs": [
    {
     "name": "stdout",
     "output_type": "stream",
     "text": [
      "True\n"
     ]
    }
   ],
   "source": [
    "rates, ep = bdt.calculate_spot_rates()\n",
    "print(bdt.verify_correctness())"
   ]
  },
  {
   "cell_type": "markdown",
   "metadata": {},
   "source": [
    "Once your model has been calibrated, compute the price of a payer swaption with notional $1M$ that expires at time $t=3$ with an option strike of $0$. You may assume the underlying swap has a fixed rate of $3.9\\%$ and that if the option is exercised then cash-flows take place at times $t=4,…,10$. (The cash-flow at time $t=i$ is based on the short-rate that prevailed in the previous period, i.e. the payments of the underlying swap are made in arrears.)"
   ]
  },
  {
   "cell_type": "code",
   "execution_count": 5,
   "metadata": {},
   "outputs": [],
   "source": [
    "\"\"\" Using short rates and knowledge that this is a payer swaption, \n",
    "    we can calculate the value of the swap until time t=4 \n",
    "    Option owner doesn't receive/make coupon payments, from there we do regular option\n",
    "    lattice reduction\"\"\"\n",
    "fixed_rate = 0.039\n",
    "short_rate_lattice = bdt.short_rates"
   ]
  },
  {
   "cell_type": "code",
   "execution_count": 6,
   "metadata": {},
   "outputs": [],
   "source": [
    "swap_lattice = reduce_swap(fixed_rate, short_rate_lattice, start=0, periods=9, qu=.5, qd=.5, debug=False)\n",
    "values = [[max(x, 0)for x in swap_lattice[3]]]\n",
    "\n",
    "call = reduce_call(values, swap_lattice, short_rate_lattice, n=3, K=0, qu=.5, qd=.5, american=False, debug=False)"
   ]
  },
  {
   "cell_type": "code",
   "execution_count": 7,
   "metadata": {},
   "outputs": [
    {
     "name": "stdout",
     "output_type": "stream",
     "text": [
      "swap value is $4085.17\n"
     ]
    }
   ],
   "source": [
    "print(f\"swap value is ${round(call[0][0]*1_000_000, 2)}\")"
   ]
  },
  {
   "cell_type": "markdown",
   "metadata": {},
   "source": [
    "# Q2"
   ]
  },
  {
   "cell_type": "code",
   "execution_count": 9,
   "metadata": {},
   "outputs": [
    {
     "name": "stdout",
     "output_type": "stream",
     "text": [
      "swap value is $8027.14\n"
     ]
    }
   ],
   "source": [
    "bdt = BlackDermanToy(SPOT_RATES, b=0.1)\n",
    "bdt.calibrate()\n",
    "rates, ep = bdt.calculate_spot_rates()\n",
    "short_rate_lattice = bdt.short_rates\n",
    "\n",
    "swap_lattice = reduce_swap(fixed_rate, short_rate_lattice, start=0, periods=9, qu=.5, qd=.5, debug=False)\n",
    "values = [[max(x, 0)for x in swap_lattice[3]]]\n",
    "\n",
    "call = reduce_call(values, swap_lattice, short_rate_lattice, n=3, K=0, qu=.5, qd=.5, american=False, debug=False)\n",
    "\n",
    "print(f\"swap value is ${round(call[0][0]*1_000_000, 2)}\")"
   ]
  },
  {
   "cell_type": "markdown",
   "metadata": {},
   "source": [
    "# Q3\n",
    "assume 1-step hazard rate  is $h_{ij}=ab^{j-\\frac{i}{2}}$\n",
    "Compute the price of a zero-coupon bond with face value \n",
    "$F=100$ and recovery $R=20\\%$."
   ]
  },
  {
   "cell_type": "code",
   "execution_count": 31,
   "metadata": {},
   "outputs": [],
   "source": [
    "n = 10\n",
    "a = .01\n",
    "b = 1.01\n",
    "F = 100   # face value\n",
    "R = .2    # recovery\n",
    "\n",
    "srl = generate_short_rate_lattice(r00=.05 , n=n, u=1.1, d=0.9)\n",
    "\n",
    "def h(i, j, a=a, b=b):\n",
    "    \"\"\"Get the hazard rate given some i and j\"\"\"\n",
    "    return a*b**(j-i/2)"
   ]
  },
  {
   "cell_type": "markdown",
   "metadata": {},
   "source": [
    "start out with the face value. then start reducing using pricing model for defaultable ZCB with recovery\n",
    "\n",
    "get all the none default values ($\\eta = 0$) since default values ($\\eta = 1$)"
   ]
  },
  {
   "cell_type": "code",
   "execution_count": 41,
   "metadata": {},
   "outputs": [
    {
     "name": "stdout",
     "output_type": "stream",
     "text": [
      "length of previous prices 11\n",
      "i:  9\n",
      "hij 0.00956211181821209 for i: 9 j: 0\n",
      "last price at 1 and 0\n",
      "hij 0.009657732936394211 for i: 9 j: 1\n",
      "last price at 2 and 1\n",
      "hij 0.009754310265758152 for i: 9 j: 2\n",
      "last price at 3 and 2\n",
      "hij 0.009851853368415734 for i: 9 j: 3\n",
      "last price at 4 and 3\n",
      "hij 0.009950371902099893 for i: 9 j: 4\n",
      "last price at 5 and 4\n",
      "hij 0.010049875621120889 for i: 9 j: 5\n",
      "last price at 6 and 5\n",
      "hij 0.010150374377332098 for i: 9 j: 6\n",
      "last price at 7 and 6\n",
      "hij 0.01025187812110542 for i: 9 j: 7\n",
      "last price at 8 and 7\n",
      "hij 0.010354396902316473 for i: 9 j: 8\n",
      "last price at 9 and 8\n",
      "hij 0.01045794087133964 for i: 9 j: 9\n",
      "last price at 10 and 9\n",
      "length of previous prices 10\n",
      "i:  8\n",
      "hij 0.009609803444828162 for i: 8 j: 0\n",
      "last price at 1 and 0\n",
      "hij 0.009705901479276444 for i: 8 j: 1\n",
      "last price at 2 and 1\n",
      "hij 0.009802960494069209 for i: 8 j: 2\n",
      "last price at 3 and 2\n",
      "hij 0.009900990099009901 for i: 8 j: 3\n",
      "last price at 4 and 3\n",
      "hij 0.01 for i: 8 j: 4\n",
      "last price at 5 and 4\n",
      "hij 0.0101 for i: 8 j: 5\n",
      "last price at 6 and 5\n",
      "hij 0.010201 for i: 8 j: 6\n",
      "last price at 7 and 6\n",
      "hij 0.010303010000000001 for i: 8 j: 7\n",
      "last price at 8 and 7\n",
      "hij 0.0104060401 for i: 8 j: 8\n",
      "last price at 9 and 8\n",
      "length of previous prices 9\n",
      "i:  7\n",
      "hij 0.009657732936394211 for i: 7 j: 0\n",
      "last price at 1 and 0\n",
      "hij 0.009754310265758152 for i: 7 j: 1\n",
      "last price at 2 and 1\n",
      "hij 0.009851853368415734 for i: 7 j: 2\n",
      "last price at 3 and 2\n",
      "hij 0.009950371902099893 for i: 7 j: 3\n",
      "last price at 4 and 3\n",
      "hij 0.010049875621120889 for i: 7 j: 4\n",
      "last price at 5 and 4\n",
      "hij 0.010150374377332098 for i: 7 j: 5\n",
      "last price at 6 and 5\n",
      "hij 0.01025187812110542 for i: 7 j: 6\n",
      "last price at 7 and 6\n",
      "hij 0.010354396902316473 for i: 7 j: 7\n",
      "last price at 8 and 7\n",
      "length of previous prices 8\n",
      "i:  6\n",
      "hij 0.009705901479276444 for i: 6 j: 0\n",
      "last price at 1 and 0\n",
      "hij 0.009802960494069209 for i: 6 j: 1\n",
      "last price at 2 and 1\n",
      "hij 0.009900990099009901 for i: 6 j: 2\n",
      "last price at 3 and 2\n",
      "hij 0.01 for i: 6 j: 3\n",
      "last price at 4 and 3\n",
      "hij 0.0101 for i: 6 j: 4\n",
      "last price at 5 and 4\n",
      "hij 0.010201 for i: 6 j: 5\n",
      "last price at 6 and 5\n",
      "hij 0.010303010000000001 for i: 6 j: 6\n",
      "last price at 7 and 6\n",
      "length of previous prices 7\n",
      "i:  5\n",
      "hij 0.009754310265758152 for i: 5 j: 0\n",
      "last price at 1 and 0\n",
      "hij 0.009851853368415734 for i: 5 j: 1\n",
      "last price at 2 and 1\n",
      "hij 0.009950371902099893 for i: 5 j: 2\n",
      "last price at 3 and 2\n",
      "hij 0.010049875621120889 for i: 5 j: 3\n",
      "last price at 4 and 3\n",
      "hij 0.010150374377332098 for i: 5 j: 4\n",
      "last price at 5 and 4\n",
      "hij 0.01025187812110542 for i: 5 j: 5\n",
      "last price at 6 and 5\n",
      "length of previous prices 6\n",
      "i:  4\n",
      "hij 0.009802960494069209 for i: 4 j: 0\n",
      "last price at 1 and 0\n",
      "hij 0.009900990099009901 for i: 4 j: 1\n",
      "last price at 2 and 1\n",
      "hij 0.01 for i: 4 j: 2\n",
      "last price at 3 and 2\n",
      "hij 0.0101 for i: 4 j: 3\n",
      "last price at 4 and 3\n",
      "hij 0.010201 for i: 4 j: 4\n",
      "last price at 5 and 4\n",
      "length of previous prices 5\n",
      "i:  3\n",
      "hij 0.009851853368415734 for i: 3 j: 0\n",
      "last price at 1 and 0\n",
      "hij 0.009950371902099893 for i: 3 j: 1\n",
      "last price at 2 and 1\n",
      "hij 0.010049875621120889 for i: 3 j: 2\n",
      "last price at 3 and 2\n",
      "hij 0.010150374377332098 for i: 3 j: 3\n",
      "last price at 4 and 3\n",
      "length of previous prices 4\n",
      "i:  2\n",
      "hij 0.009900990099009901 for i: 2 j: 0\n",
      "last price at 1 and 0\n",
      "hij 0.01 for i: 2 j: 1\n",
      "last price at 2 and 1\n",
      "hij 0.0101 for i: 2 j: 2\n",
      "last price at 3 and 2\n",
      "length of previous prices 3\n",
      "i:  1\n",
      "hij 0.009950371902099893 for i: 1 j: 0\n",
      "last price at 1 and 0\n",
      "hij 0.010049875621120889 for i: 1 j: 1\n",
      "last price at 2 and 1\n",
      "length of previous prices 2\n",
      "i:  0\n",
      "hij 0.01 for i: 0 j: 0\n",
      "last price at 1 and 0\n",
      "[[57.20919746903972], [57.9636042147442, 62.985198497360265], [59.06771119776974, 64.06267192376382, 68.50670364652537], [60.60805659931669, 65.52738500565765, 69.89438102260529, 73.71451915763441], [62.69657701429858, 67.47482393790962, 71.70273186510305, 75.38988702904797, 78.56967192002112], [65.48041904279022, 70.02904327818283, 74.0344198232338, 77.51338972523712, 80.50463532560194, 83.05083978746038], [69.15556189070782, 73.35143756298763, 77.02246380858972, 80.19363002134179, 82.90854219010775, 85.21202475886616, 87.15161329893668], [73.9889540899853, 77.65739752528661, 80.84012855664548, 83.56990533271255, 85.89398345512038, 87.8569233335553, 89.50371518605145, 90.87885419090993], [80.35186274056939, 83.23861665595004, 85.71730305547686, 87.82336349229206, 89.60415377473593, 91.09985140189374, 92.34830348244631, 93.38736850080653, 94.24664544215398], [88.76914845204672, 90.497123829278, 91.96286546490379, 93.19342062646933, 94.22511516263822, 95.08546528599668, 95.79861504936683, 96.39031406137536, 96.87758698794026, 97.27811486422415], [100, 100, 100, 100, 100, 100, 100, 100, 100, 100, 100]]\n",
      "zcb length:  11\n",
      "57.21\n"
     ]
    }
   ],
   "source": [
    "\n",
    "def price_defaultable_zcb(face_value, periods, srl, R, q_u=0.5, q_d=0.5):\n",
    "    zcb_matrix = [[100]*(periods + 1)]\n",
    "    \n",
    "    for i in range(n)[::-1]:\n",
    "        last_prices = zcb_matrix[0]\n",
    "        new_prices = []\n",
    "\n",
    "        for j in range(i + 1):\n",
    "            disc = 1/(1+srl[i][j])\n",
    "            hij = h(i,j)   # the hazard rate at time i state j\n",
    "            z_ij = disc*(q_u*(1-hij)*last_prices[j + 1] +\n",
    "                         q_d*(1-hij)*last_prices[j] +\n",
    "                         q_u*(hij)*R +\n",
    "                         q_d*(hij)*R\n",
    "                        )\n",
    "            new_prices.append(z_ij)\n",
    "\n",
    "        zcb_matrix.insert(0, new_prices)\n",
    "    print(zcb_matrix)\n",
    "    print(\"zcb length: \", len(zcb_matrix))\n",
    "    return zcb_matrix[0][0]\n",
    "\n",
    "print(round(price_defaultable_zcb(100, 10, srl, R*100), 2))"
   ]
  },
  {
   "cell_type": "markdown",
   "metadata": {},
   "source": [
    "# Q4 "
   ]
  },
  {
   "cell_type": "markdown",
   "metadata": {},
   "source": [
    "Solve for hazard rates given some markets bond prices. Use same hazard rate for every period to take advantage of risk neutral dynamics of interest rates. meaning discount for some period $k$ is $Z_0^{t_k}=d(0,t_n)$"
   ]
  },
  {
   "cell_type": "code",
   "execution_count": 7,
   "metadata": {},
   "outputs": [],
   "source": [
    "F = 100\n",
    "r = 0.05"
   ]
  },
  {
   "cell_type": "code",
   "execution_count": 31,
   "metadata": {},
   "outputs": [],
   "source": [
    "# actual values\n",
    "bond_prices = [100.92, 91.56, 105.6, 98.90, 137.48]\n",
    "coupons = [.05, .02, .05, .05, .1]\n",
    "recovery = [.1, .25, .5, .1, .2]"
   ]
  },
  {
   "cell_type": "code",
   "execution_count": 32,
   "metadata": {},
   "outputs": [],
   "source": [
    "# example values\n",
    "test_bond_prices = [101.22, 92.58, 107.44, 104.05, 145.82]\n",
    "test_coupons = [.05, .02, .05, .05, .1]\n",
    "test_recovery = [.1, .25, .5, .1, .2]"
   ]
  },
  {
   "cell_type": "code",
   "execution_count": 35,
   "metadata": {},
   "outputs": [],
   "source": [
    "# months = 12*years\n",
    "# time = [i for i in range(0, months+1, 6)]\n",
    "survival_prob = [1.0]\n",
    "discount_rates = [1.0]"
   ]
  },
  {
   "cell_type": "code",
   "execution_count": 45,
   "metadata": {},
   "outputs": [
    {
     "name": "stdout",
     "output_type": "stream",
     "text": [
      "discount  [0.976, 0.952, 0.929, 0.906, 0.884, 0.862, 0.841, 0.821, 0.801, 0.781]\n",
      "at year 0\n",
      "recovery  10.0\n",
      "coupons:  [5.0, 105.0]\n",
      "solve in year 0\n",
      "survival_prob: 1\n",
      "q1 1 - h\tp1 4.88*h + 4.88\n",
      "q2 (1 - h)**2\tp2 90.44*(1 - h)**2 + 9.52\n",
      "[1, 0.979209705410111, 0.958851647169356]\n",
      "\n",
      "at year 1\n",
      "recovery  25.0\n",
      "coupons:  [2.0, 2.0, 2.0, 102.0]\n",
      "calc year 0\n",
      "q1, q2:  0.979209705410111 0.958851647169356\n",
      "d1, d2:  0.976 0.952\n",
      "disc expected val of first half in year 0: 2.41870053295383\n",
      "disc expected val of second half in year 0: 2.80498433357978\n",
      "solve in year 1\n",
      "survival_prob: 0.958851647169356\n",
      "q1 0.958851647169356 - 0.958851647169356*h\tp1 20.4877831450676*h + 2.73721685493237\n",
      "q2 (0.958851647169356 - 0.958851647169356*h)*(1 - h)\tp2 69.762*(0.958851647169356 - 0.958851647169356*h)*(1 - h) + 22.65\n",
      "[1, 0.979209705410111, 0.958851647169356, 0.916065356244352, 0.875188293609796]\n",
      "\n"
     ]
    }
   ],
   "source": [
    "from sympy.solvers import solve\n",
    "from sympy import *\n",
    "from scipy.optimize import minimize\n",
    "import numpy as np\n",
    "\n",
    "def calibrate_hazard_rate(true_prices, coupon_rates, recovery_rates, interest_rate=0.05, F=100,):\n",
    "    \"\"\" Returns hazard rates calibrated from true_prices of \n",
    "    Defaultable bonds with recovery. Assuming that the hazard rate is stable\n",
    "    through out the year.\n",
    "    \"\"\"\n",
    "    t = 0\n",
    "    hazards = []\n",
    "    survival_prob = [1]\n",
    "    default_prob = [None]\n",
    "    \n",
    "    # discount rates for each semi annual period\n",
    "    d = [round(1/(1+interest_rate/2)**i, 3) for i in range(1, len(true_prices) * 2 + 1)]\n",
    "    print(\"discount \", d)\n",
    "\n",
    "    for t_price, coupon_rate, recovery_rate in zip(true_prices, coupon_rates, recovery_rates):\n",
    "        if t == 2:\n",
    "            break\n",
    "        print(f\"at year {t}\")\n",
    "        # get potential coupon for each time period\n",
    "        coupons = [coupon_rate*F for _ in range((t+1)*2)]\n",
    "        coupons[-1] += F\n",
    "        \n",
    "        # get potential recovery value\n",
    "        # recovery = [recovery_rate*F for _ in range((t+1)*2)]\n",
    "        recovery = recovery_rate*F\n",
    "        \n",
    "        print(\"recovery \", recovery)\n",
    "        print(\"coupons: \", coupons)\n",
    "        \n",
    "        # solving for the t-th hazard using all previous hazard rates calced\n",
    "        # pre calculate using previous rates\n",
    "        known = 0\n",
    "        for i in range(t):\n",
    "            print(f\"calc year {i}\")\n",
    "            q1 = survival_prob[i*2+1]\n",
    "            q2 = survival_prob[(i+1)*2]\n",
    "            print(\"q1, q2: \", q1, q2)\n",
    "            print(\"d1, d2: \", d[i*2], d[i*2+1])\n",
    "\n",
    "            op1 = d[i*2]*(q1*coupons[i*2] + (1-q1)*recovery)\n",
    "            op2 = d[i*2+1]*(q2*coupons[i*2+1] + (1-q2)*recovery)\n",
    "\n",
    "            known += op1 + op2\n",
    "            print(f\"disc expected val of first half in year {i}: {op1}\")\n",
    "            print(f\"disc expected val of second half in year {i}: {op2}\")\n",
    "            \n",
    "        \n",
    "        # create equations to solve\n",
    "        print(f\"solve in year {t}\")\n",
    "        print(f\"survival_prob: {survival_prob[-1]}\")\n",
    "        h = symbols('h')    # hazard rate for both semi periods\n",
    "        \n",
    "        q1 = survival_prob[-1]*(1-h)   # survival prob for first half\n",
    "        q2 = q1*(1-h)                  # survival prob for second half\n",
    "\n",
    "        p1 = d[t*2]*(q1*coupons[t*2] + (1-q1)*recovery)   # discounted expected value in first half\n",
    "        p2 = d[t*2+1]*(q2*coupons[t*2+1] + (1-q2)*recovery)   # discounted expected value in second half\n",
    "        print(f\"q1 {q1}\\tp1 {p1}\")\n",
    "        print(f\"q2 {q2}\\tp2 {p2}\")\n",
    "        \n",
    "        error = (known + p1 + p2 - t_price)**2\n",
    "\n",
    "        def f(x):\n",
    "            # TODO check that its greater than the last one\n",
    "            res = error.subs(h, x[0]/100)\n",
    "            return np.float64(res)\n",
    "\n",
    "        res = minimize(f, 2, method='BFGS')\n",
    "        if len(res.x) > 1:\n",
    "            raise ValueError(\"we have more than two possible solutions: \", res)\n",
    "\n",
    "        h_r = res.x[0]/100\n",
    "        \n",
    "        survival_prob.append(q1.subs(h, h_r))\n",
    "        survival_prob.append(q2.subs(h, h_r))\n",
    "        print(survival_prob)\n",
    "        \n",
    "        t += 1\n",
    "        print()\n",
    "\n",
    "\n",
    "\n",
    "calibrate_hazard_rate(test_bond_prices, test_coupons, test_recovery)\n",
    "    "
   ]
  },
  {
   "cell_type": "code",
   "execution_count": 43,
   "metadata": {},
   "outputs": [],
   "source": [
    "        \n",
    "def calibrate_hazard_rate_(true_prices, coupons, recovery, F=100,):\n",
    "    \"\"\"test this out with a single bond first. should work in theory.\n",
    "    if it does, you can kinda bootstrap the process for other bonds.\n",
    "    \"\"\"\n",
    "    true_price = true_prices[0]\n",
    "    coupons = [c*F for c in coupons]\n",
    "    c1, c2 = coupons[0], coupons[0] + F\n",
    "    recovery_val = recovery[0]*F\n",
    "    \n",
    "    d1, d2 = 1/(1.025), 1/(1.025)**2\n",
    "    h0 = symbols('h0')    # hazard rates\n",
    "    \n",
    "    q0 = 1\n",
    "    q1 = q0*(1-h0)\n",
    "    q2 = q1*(1-h0)\n",
    "    print(c1, c2)\n",
    "    print(\"d1\", d1)\n",
    "    print(\"d2\", d2)\n",
    "\n",
    "    p1 = d1*(q1*c1 + (1-q1)*recovery_val)\n",
    "    p2 = d2*(q2*c2 +(1-q2)*recovery_val)\n",
    "    \n",
    "    print(\"price1: \", p1)\n",
    "    print(\"price2: \", p2)\n",
    "    \n",
    "    eq = (p1 + p2 - true_price)**2\n",
    "    \n",
    "    print(eq)\n",
    "    \n",
    "    def f(x):\n",
    "        res = eq.subs(h0, x[0]/100)\n",
    "        print(res)\n",
    "        return np.float64(res)\n",
    "\n",
    "    print(minimize(f, 2, method='BFGS'))\n",
    "    "
   ]
  },
  {
   "cell_type": "code",
   "execution_count": null,
   "metadata": {},
   "outputs": [],
   "source": []
  }
 ],
 "metadata": {
  "kernelspec": {
   "display_name": "Python 3",
   "language": "python",
   "name": "python3"
  },
  "language_info": {
   "codemirror_mode": {
    "name": "ipython",
    "version": 3
   },
   "file_extension": ".py",
   "mimetype": "text/x-python",
   "name": "python",
   "nbconvert_exporter": "python",
   "pygments_lexer": "ipython3",
   "version": "3.8.3"
  }
 },
 "nbformat": 4,
 "nbformat_minor": 4
}
