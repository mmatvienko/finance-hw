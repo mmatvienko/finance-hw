{
 "cells": [
  {
   "cell_type": "markdown",
   "metadata": {},
   "source": [
    "# Test 6"
   ]
  },
  {
   "cell_type": "markdown",
   "metadata": {},
   "source": [
    "should be answered by building and calibrating a 10-period Black-Derman-Toy model for the short-rate.\n",
    "\n",
    "Period 1 2 3 4 5 6 7 8 9 10\n",
    "\n",
    "Spot Rate 3.0% 3.1% 3.2% 3.3% 3.4% 3.5% 3.55% 3.6% 3.65% 3.7%\n",
    "\n",
    "Assume that $Z^6_0 = \\frac{100}{(1+r_6)^6}$\n"
   ]
  },
  {
   "cell_type": "code",
   "execution_count": 41,
   "metadata": {},
   "outputs": [],
   "source": [
    "SPOT_RATES = [.03, .031, .032, .033, .034, .035, .0355, .036, .0365, .037]\n",
    "TEST_RATES = [.073, .0762, .081, .0845, .092, .0964, .1012, .1045, .1122, .1155, .1192, .122, .1232]"
   ]
  },
  {
   "cell_type": "code",
   "execution_count": 40,
   "metadata": {},
   "outputs": [],
   "source": [
    "from sympy import symbols\n",
    "from sympy.solvers import solve\n",
    "from math import exp\n",
    "\n",
    "class BlackDermanToy():\n",
    "    \"\"\" Black-Derman-Toy Model\n",
    "    The provided b will be assumed to be the same one for all b_i\n",
    "    \"\"\"\n",
    "    def __init__(self, spot_rates, b=0.05, q=0.5):\n",
    "        \"\"\" initialize the black-derman-toy model\n",
    "        spot_rates: list of rates to callibrate the model to\n",
    "        \"\"\"\n",
    "        self.spot_rates = spot_rates\n",
    "        self.a = []\n",
    "        self.b = b\n",
    "        self.rates = []\n",
    "        self.P = [[1]]\n",
    "        self.q = q\n",
    "\n",
    "    def calibrate(self):\n",
    "        \"\"\" Iterate from 1 to len(spot_rates) - 1 and and callibrate a_i\"\"\"\n",
    "        a_i = symbols('a_1')\n",
    "        sr = self.short_rate(a_1, 0)\n",
    "        ep = self.P[0][0]\n",
    "        eq = ep/sr - (1/(1+self.spot_rates[0]))\n",
    "        sol = solve(eq, a_i)\n",
    "        self.a.append(sol[0] - 1) # have to subtract 1 to get the rate\n",
    "        \n",
    "        for i in range(1, len(self.spot_rates)):\n",
    "            a_i = symbol(f'a_{i+2}')\n",
    "            diag = \n",
    "        return self.a\n",
    "            \n",
    "    def short_rate(self, a_i, j):\n",
    "        \"\"\" Get the short rate given some a_i, j.\n",
    "        Since the a_i is being calibrated for, it is provided .\n",
    "        Rate is calculated from a_i*exp(b_i*j)\n",
    "        \"\"\"\n",
    "        return a_i*exp(self.b*j)\n",
    "        \n",
    "    def get_elementary_price(self, i, j, pe, psr):\n",
    "        \"\"\" Returns a sumpy equation that can then be combined\n",
    "        with others, and be solved.\n",
    "        q * previous_elementary_price/(1+prev_short_rate)/100 + \n",
    "        (1-q) * previous_elementary_price/(1+prev_short_rate)/100\n",
    "        \"\"\"\n",
    "        eq = q * 100*self.P[i][j]/(1 + prev_short_rate) + (1-q) * 100"
   ]
  },
  {
   "cell_type": "code",
   "execution_count": 42,
   "metadata": {},
   "outputs": [
    {
     "name": "stdout",
     "output_type": "stream",
     "text": [
      "[0.0729999999999995]\n"
     ]
    }
   ],
   "source": [
    "bdt = BlackDermanToy(TEST_RATES)\n",
    "print(bdt.calibrate())\n",
    "\n"
   ]
  },
  {
   "cell_type": "code",
   "execution_count": 27,
   "metadata": {},
   "outputs": [
    {
     "data": {
      "text/latex": [
       "$\\displaystyle \\frac{1}{x^{3}} + \\frac{1}{x^{4}} + \\frac{1}{x^{5}} + \\frac{1}{x^{6}} + \\frac{1}{x^{7}} + \\frac{1}{x^{8}} + \\frac{1}{x^{9}} + \\frac{1}{x^{10}}$"
      ],
      "text/plain": [
       "x**(-3) + x**(-4) + x**(-5) + x**(-6) + x**(-7) + x**(-8) + x**(-9) + x**(-10)"
      ]
     },
     "execution_count": 27,
     "metadata": {},
     "output_type": "execute_result"
    }
   ],
   "source": [
    "from sympy import *\n",
    "from sympy.abc import k, m, n, x\n",
    "eq = summation(1/x**k, (k, 3, 10))\n",
    "eq.expand()"
   ]
  }
 ],
 "metadata": {
  "kernelspec": {
   "display_name": "Python 3",
   "language": "python",
   "name": "python3"
  },
  "language_info": {
   "codemirror_mode": {
    "name": "ipython",
    "version": 3
   },
   "file_extension": ".py",
   "mimetype": "text/x-python",
   "name": "python",
   "nbconvert_exporter": "python",
   "pygments_lexer": "ipython3",
   "version": "3.7.4"
  }
 },
 "nbformat": 4,
 "nbformat_minor": 4
}
