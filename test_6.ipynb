{
 "cells": [
  {
   "cell_type": "markdown",
   "metadata": {},
   "source": [
    "# Test 6"
   ]
  },
  {
   "cell_type": "markdown",
   "metadata": {},
   "source": [
    "should be answered by building and calibrating a 10-period Black-Derman-Toy model for the short-rate.\n",
    "\n",
    "Period 1 2 3 4 5 6 7 8 9 10\n",
    "\n",
    "Spot Rate 3.0% 3.1% 3.2% 3.3% 3.4% 3.5% 3.55% 3.6% 3.65% 3.7%\n",
    "\n",
    "Assume that $Z^6_0 = \\frac{100}{(1+r_6)^6}$\n"
   ]
  },
  {
   "cell_type": "code",
   "execution_count": 1,
   "metadata": {},
   "outputs": [],
   "source": [
    "SPOT_RATES = [.03, .031, .032, .033, .034, .035, .0355, .036, .0365, .037]\n",
    "TEST_RATES = [.073, .0762, .081, .0845, .092, .0964, .1012, .1045, .1122, .1155, .1192, .122, .1232]"
   ]
  },
  {
   "cell_type": "code",
   "execution_count": 2,
   "metadata": {},
   "outputs": [],
   "source": [
    "from utils import *"
   ]
  },
  {
   "cell_type": "code",
   "execution_count": 3,
   "metadata": {},
   "outputs": [],
   "source": [
    "bdt = BlackDermanToy(SPOT_RATES, b=0.05)\n",
    "a = bdt.calibrate()"
   ]
  },
  {
   "cell_type": "code",
   "execution_count": 4,
   "metadata": {},
   "outputs": [
    {
     "name": "stdout",
     "output_type": "stream",
     "text": [
      "True\n"
     ]
    }
   ],
   "source": [
    "rates, ep = bdt.calculate_spot_rates()\n",
    "print(bdt.verify_correctness())"
   ]
  },
  {
   "cell_type": "markdown",
   "metadata": {},
   "source": [
    "Once your model has been calibrated, compute the price of a payer swaption with notional $1M$ that expires at time $t=3$ with an option strike of $0$. You may assume the underlying swap has a fixed rate of $3.9\\%$ and that if the option is exercised then cash-flows take place at times $t=4,…,10$. (The cash-flow at time $t=i$ is based on the short-rate that prevailed in the previous period, i.e. the payments of the underlying swap are made in arrears.)"
   ]
  },
  {
   "cell_type": "code",
   "execution_count": 5,
   "metadata": {},
   "outputs": [],
   "source": [
    "\"\"\" Using short rates and knowledge that this is a payer swaption, \n",
    "    we can calculate the value of the swap until time t=4 \n",
    "    Option owner doesn't receive/make coupon payments, from there we do regular option\n",
    "    lattice reduction\"\"\"\n",
    "fixed_rate = 0.039\n",
    "short_rate_lattice = bdt.short_rates"
   ]
  },
  {
   "cell_type": "code",
   "execution_count": 6,
   "metadata": {},
   "outputs": [],
   "source": [
    "swap_lattice = reduce_swap(fixed_rate, short_rate_lattice, start=0, periods=9, qu=.5, qd=.5, debug=False)\n",
    "values = [[max(x, 0)for x in swap_lattice[3]]]\n",
    "\n",
    "call = reduce_call(values, swap_lattice, short_rate_lattice, n=3, K=0, qu=.5, qd=.5, american=False, debug=False)"
   ]
  },
  {
   "cell_type": "code",
   "execution_count": 7,
   "metadata": {},
   "outputs": [
    {
     "name": "stdout",
     "output_type": "stream",
     "text": [
      "swap value is $4085.0\n"
     ]
    }
   ],
   "source": [
    "print(f\"swaption value is ${round(call[0][0]*1_000_000,0)}\")"
   ]
  },
  {
   "cell_type": "markdown",
   "metadata": {},
   "source": [
    "# Q2"
   ]
  },
  {
   "cell_type": "code",
   "execution_count": 8,
   "metadata": {},
   "outputs": [
    {
     "name": "stdout",
     "output_type": "stream",
     "text": [
      "swap value is $8027.0\n"
     ]
    }
   ],
   "source": [
    "bdt = BlackDermanToy(SPOT_RATES, b=0.1)\n",
    "bdt.calibrate()\n",
    "rates, ep = bdt.calculate_spot_rates()\n",
    "short_rate_lattice = bdt.short_rates\n",
    "\n",
    "swap_lattice = reduce_swap(fixed_rate, short_rate_lattice, start=0, periods=9, qu=.5, qd=.5, debug=False)\n",
    "values = [[max(x, 0)for x in swap_lattice[3]]]\n",
    "\n",
    "call = reduce_call(values, swap_lattice, short_rate_lattice, n=3, K=0, qu=.5, qd=.5, american=False, debug=False)\n",
    "\n",
    "print(f\"swaption value is ${round(call[0][0]*1_000_000,0)}\")"
   ]
  },
  {
   "cell_type": "markdown",
   "metadata": {},
   "source": [
    "# Q3\n",
    "assume 1-step hazard rate  is $h_{ij}=ab^{j-\\frac{i}{2}}$\n",
    "Compute the price of a zero-coupon bond with face value \n",
    "$F=100$ and recovery $R=20\\%$."
   ]
  },
  {
   "cell_type": "code",
   "execution_count": 9,
   "metadata": {},
   "outputs": [],
   "source": [
    "n = 10\n",
    "a = .01\n",
    "b = 1.01\n",
    "F = 100   # face value\n",
    "R = .2    # recovery\n",
    "\n",
    "srl = generate_short_rate_lattice(r00=.05 , n=n, u=1.1, d=0.9)\n",
    "\n",
    "def h(i, j, a=a, b=b):\n",
    "    \"\"\"Get the hazard rate given some i and j\"\"\"\n",
    "    return a*b**(j-i/2)"
   ]
  },
  {
   "cell_type": "markdown",
   "metadata": {},
   "source": [
    "start out with the face value. then start reducing using pricing model for defaultable ZCB with recovery\n",
    "\n",
    "get all the none default values ($\\eta = 0$) since default values ($\\eta = 1$)"
   ]
  },
  {
   "cell_type": "code",
   "execution_count": 10,
   "metadata": {},
   "outputs": [
    {
     "name": "stdout",
     "output_type": "stream",
     "text": [
      "[[57.20919746903972], [57.9636042147442, 62.985198497360265], [59.06771119776974, 64.06267192376382, 68.50670364652537], [60.60805659931669, 65.52738500565765, 69.89438102260529, 73.71451915763441], [62.69657701429858, 67.47482393790962, 71.70273186510305, 75.38988702904797, 78.56967192002112], [65.48041904279022, 70.02904327818283, 74.0344198232338, 77.51338972523712, 80.50463532560194, 83.05083978746038], [69.15556189070782, 73.35143756298763, 77.02246380858972, 80.19363002134179, 82.90854219010775, 85.21202475886616, 87.15161329893668], [73.9889540899853, 77.65739752528661, 80.84012855664548, 83.56990533271255, 85.89398345512038, 87.8569233335553, 89.50371518605145, 90.87885419090993], [80.35186274056939, 83.23861665595004, 85.71730305547686, 87.82336349229206, 89.60415377473593, 91.09985140189374, 92.34830348244631, 93.38736850080653, 94.24664544215398], [88.76914845204672, 90.497123829278, 91.96286546490379, 93.19342062646933, 94.22511516263822, 95.08546528599668, 95.79861504936683, 96.39031406137536, 96.87758698794026, 97.27811486422415], [100, 100, 100, 100, 100, 100, 100, 100, 100, 100, 100]]\n",
      "zcb length:  11\n",
      "57.21\n"
     ]
    }
   ],
   "source": [
    "\n",
    "def price_defaultable_zcb(face_value, periods, srl, R, q_u=0.5, q_d=0.5):\n",
    "    zcb_matrix = [[100]*(periods + 1)]\n",
    "    \n",
    "    for i in range(n)[::-1]:\n",
    "        last_prices = zcb_matrix[0]\n",
    "        new_prices = []\n",
    "\n",
    "        for j in range(i + 1):\n",
    "            disc = 1/(1+srl[i][j])\n",
    "            hij = h(i,j)   # the hazard rate at time i state j\n",
    "            z_ij = disc*(q_u*(1-hij)*last_prices[j + 1] +\n",
    "                         q_d*(1-hij)*last_prices[j] +\n",
    "                         q_u*(hij)*R +\n",
    "                         q_d*(hij)*R\n",
    "                        )\n",
    "            new_prices.append(z_ij)\n",
    "\n",
    "        zcb_matrix.insert(0, new_prices)\n",
    "    print(zcb_matrix)\n",
    "    print(\"zcb length: \", len(zcb_matrix))\n",
    "    return zcb_matrix[0][0]\n",
    "\n",
    "print(round(price_defaultable_zcb(100, 10, srl, R*100), 2))"
   ]
  },
  {
   "cell_type": "markdown",
   "metadata": {},
   "source": [
    "# Q4 "
   ]
  },
  {
   "cell_type": "markdown",
   "metadata": {},
   "source": [
    "Solve for hazard rates given some markets bond prices. Use same hazard rate for every period to take advantage of risk neutral dynamics of interest rates. meaning discount for some period $k$ is $Z_0^{t_k}=d(0,t_n)$"
   ]
  },
  {
   "cell_type": "code",
   "execution_count": 11,
   "metadata": {},
   "outputs": [],
   "source": [
    "F = 100\n",
    "r = 0.05"
   ]
  },
  {
   "cell_type": "code",
   "execution_count": 12,
   "metadata": {},
   "outputs": [],
   "source": [
    "# actual values\n",
    "bond_prices = [100.92, 91.56, 105.6, 98.90, 137.48]\n",
    "coupons = [.05, .02, .05, .05, .1]\n",
    "recovery = [.1, .25, .5, .1, .2]"
   ]
  },
  {
   "cell_type": "code",
   "execution_count": 13,
   "metadata": {},
   "outputs": [],
   "source": [
    "# example values\n",
    "test_bond_prices = [101.20, 92.60, 107.44, 104.10, 145.84]\n",
    "test_coupons = [.05, .02, .05, .05, .1]\n",
    "test_recovery = [.1, .25, .5, .1, .2]"
   ]
  },
  {
   "cell_type": "code",
   "execution_count": 14,
   "metadata": {},
   "outputs": [],
   "source": [
    "# months = 12*years\n",
    "# time = [i for i in range(0, months+1, 6)]\n",
    "survival_prob = [1.0]\n",
    "discount_rates = [1.0]"
   ]
  },
  {
   "cell_type": "code",
   "execution_count": 15,
   "metadata": {},
   "outputs": [],
   "source": [
    "from sympy.solvers import solve\n",
    "from sympy import *\n",
    "from scipy.optimize import minimize, broyden1\n",
    "import numpy as np\n",
    "\n",
    "def calibrate_hazard_rate(true_prices, coupon_rates, recovery_rates, interest_rate=0.05, F=100, debug=False):\n",
    "    \"\"\" Returns hazard rates calibrated from true_prices of \n",
    "    Defaultable bonds with recovery. Assuming that the hazard rate is stable\n",
    "    through out the year.\n",
    "    \"\"\"\n",
    "    t = 0\n",
    "    q = [1]\n",
    "    default_prob = [None]\n",
    "    years = len(true_prices)\n",
    "    periods = years*2\n",
    "    \n",
    "    # discount rates for each semi annual period not including 1\n",
    "    d = [round(1/(1+interest_rate/2)**i, 6) for i in range(1, periods + 1)]\n",
    "    if debug: print(\"discount \", d)\n",
    "    \n",
    "    # fill out the list of hazard rates\n",
    "    hazards = []        # reflects number of periods (6mth)\n",
    "    hazard_unique = []  # reflects number of years\n",
    "    for i in range(years):\n",
    "        h_i = symbols(f'h_{i}')\n",
    "        hazards.append(h_i)\n",
    "        hazards.append(h_i)\n",
    "        hazard_unique.append(h_i)\n",
    "\n",
    "    if debug: print(hazards)\n",
    "\n",
    "    # buld the survival probs\n",
    "    for i in range(periods):\n",
    "        q.append(q[i]*(1 - hazards[i]))\n",
    "        \n",
    "    \n",
    "    def gen_bond_model(n, cr, rr, F=100, debug=debug):\n",
    "        \"\"\" n is the period that the bond ends in\n",
    "            cr is the coupon rate\n",
    "            rr is the recovery rate\n",
    "            F is the face value\n",
    "        \"\"\"\n",
    "        eq = 0\n",
    "        c = cr*F\n",
    "        R = rr*F\n",
    "        if debug: print(R)\n",
    "        if debug: print(c)\n",
    "        for i in range(n):\n",
    "            if debug: print(f\"i: {i}\")\n",
    "            # c*q_i*d(0,t_i)\n",
    "            coup = c*q[i + 1]*d[i]\n",
    "            if debug: print(f\"used d: {d[i]} and q: {q[i+1]}\")\n",
    "            eq += coup\n",
    "            if debug: print(f'coup: {c}*({q[i + 1]})*{d[i]}')\n",
    "            \n",
    "            # RF * (q_i-1 - q_i)*d(0, t_i)\n",
    "            recov = R*(q[i] - q[i+1])*d[i]\n",
    "            eq += recov\n",
    "            if debug: print(f\"recov: {R}*({q[i]} - {q[i+1]})*{d[i]}\")\n",
    "            \n",
    "        # F*q_n*d(0,t_n)\n",
    "        if debug: print(f\"using n {n} to index\")\n",
    "        face = F*q[n]*d[n-1]\n",
    "        if debug: print(f\"Face = {face} = {F}*{q[n]}*{d[n-1]}\")\n",
    "        eq += face\n",
    "\n",
    "        return eq\n",
    "\n",
    "    err_eq = []\n",
    "    n = 2\n",
    "    bond_eq = []\n",
    "    for tp, cr, rr in zip(true_prices, coupon_rates, recovery_rates):\n",
    "        bond = gen_bond_model(n=n, cr=cr, rr=rr, debug=debug)\n",
    "        bond_eq.append(bond)\n",
    "        err_eq.append((bond - tp)**2)\n",
    "        n += 2\n",
    "\n",
    "    error = sum(err_eq)     \n",
    "    def f(X):\n",
    "        sub_d = {h_: x_ for h_, x_ in zip([h for h in hazard_unique], [x/100 for x in X])}\n",
    "        res = error.subs(sub_d)\n",
    "\n",
    "        return res\n",
    "\n",
    "    l = []\n",
    "    for i in range(4):\n",
    "        l.append({'type':'ineq', 'fun': lambda x : x[i+1] - x[i]})\n",
    "    cons = tuple(l)\n",
    "    \n",
    "    res = minimize(f, [2]*years, constraints=cons, method='BFGS')\n",
    "    if debug: print(res.x)    \n",
    "    \n",
    "    i = 0\n",
    "    sub_d = {h_: x_ for h_, x_ in zip([h for h in hazard_unique], [x/100 for x in res.x])}\n",
    "    for be in bond_eq:\n",
    "        if debug: print(be.subs(sub_d))\n",
    "\n",
    "    return res.x\n",
    "  "
   ]
  },
  {
   "cell_type": "code",
   "execution_count": 16,
   "metadata": {
    "scrolled": true
   },
   "outputs": [
    {
     "name": "stderr",
     "output_type": "stream",
     "text": [
      "/Users/marcmatvienko/miniconda3/envs/phobos/lib/python3.8/site-packages/scipy/optimize/_minimize.py:521: RuntimeWarning: Method BFGS cannot handle constraints nor bounds.\n",
      "  warn('Method %s cannot handle constraints nor bounds.' % method,\n"
     ]
    }
   ],
   "source": [
    "hazards = calibrate_hazard_rate(bond_prices, coupons, recovery)\n",
    "test_hazards = calibrate_hazard_rate(test_bond_prices, test_coupons, test_recovery)\n",
    "\n",
    "    "
   ]
  },
  {
   "cell_type": "code",
   "execution_count": 17,
   "metadata": {},
   "outputs": [
    {
     "data": {
      "text/plain": [
       "array([2.12378904, 2.62042742, 3.12157615, 3.62352235, 4.09913348])"
      ]
     },
     "execution_count": 17,
     "metadata": {},
     "output_type": "execute_result"
    }
   ],
   "source": [
    "hazards"
   ]
  },
  {
   "cell_type": "markdown",
   "metadata": {},
   "source": [
    "# Q5"
   ]
  },
  {
   "cell_type": "markdown",
   "metadata": {},
   "source": [
    "Compute par spread in basis points for a 5yr CDS with notional $N=\\$10mil$ assuming recovery is $R=25\\%$, the 3 month hazard rate is $1\\%$ and interest is $5\\%$ per annum."
   ]
  },
  {
   "cell_type": "markdown",
   "metadata": {},
   "source": [
    "All values are risk-neutral:\n",
    "Premium payments value: $\\Sigma_{k=1}^n\\delta SNq(t_k)d(0,t_k)$\n",
    "\n",
    "Val of accrued interest if default: $\\frac{\\delta SN}{2}\\Sigma_{k=1}^n(q(t_{k-1}) - q(t_k))d(0,t_k)$\n",
    "\n",
    "combined premium and interest: $\\frac{\\delta SN}{2}\\Sigma_{k=1}^n(q(t_{k-1}) + q(t_k))d(0,t_k)$\n",
    "\n",
    "val of contingent payment: $(1-R)N\\Sigma_{k=1}^n(q(t_{k-1}) - q(t_k))d(0,t_k)$\n",
    "\n",
    "par spread: val of contingent / combined premium and interest val"
   ]
  },
  {
   "cell_type": "code",
   "execution_count": 18,
   "metadata": {},
   "outputs": [],
   "source": [
    "def get_cds_par_spread(N, R, q, h, periods=8):\n",
    "    \"\"\" N : notional\n",
    "        R : recovery rate\n",
    "        q : interest rate (per annum)\n",
    "        h : hazard rates (per quarter) \n",
    "        \n",
    "        h is assumed to be fixed for simplicity sake\n",
    "    \"\"\"\n",
    "    contingent = 0\n",
    "    premium = 0   # includes accrued interest if default happens in middle\n",
    "    \n",
    "    survival = 1.0\n",
    "    for i in range(periods + 1):\n",
    "        discount = (1 + q/4)**-(i+1)\n",
    "        old_surv = survival\n",
    "        survival = survival*(1-h)\n",
    "        \n",
    "        # calc contingent\n",
    "        contingent += (old_surv - survival)*discount\n",
    "        # calc premium\n",
    "        premium += (old_surv + survival)*discount\n",
    "        \n",
    "    contingent *= (1-R)\n",
    "    premium *= 0.25/2\n",
    "    \n",
    "    return contingent / premium"
   ]
  },
  {
   "cell_type": "code",
   "execution_count": 19,
   "metadata": {},
   "outputs": [
    {
     "data": {
      "text/plain": [
       "301.5075376884429"
      ]
     },
     "execution_count": 19,
     "metadata": {},
     "output_type": "execute_result"
    }
   ],
   "source": [
    "# test get_cds_par_spread\n",
    "get_cds_par_spread(10_000_000, .25, h=.01, q=.05)*100*100"
   ]
  },
  {
   "cell_type": "code",
   "execution_count": null,
   "metadata": {},
   "outputs": [],
   "source": []
  }
 ],
 "metadata": {
  "kernelspec": {
   "display_name": "Python 3",
   "language": "python",
   "name": "python3"
  },
  "language_info": {
   "codemirror_mode": {
    "name": "ipython",
    "version": 3
   },
   "file_extension": ".py",
   "mimetype": "text/x-python",
   "name": "python",
   "nbconvert_exporter": "python",
   "pygments_lexer": "ipython3",
   "version": "3.8.3"
  }
 },
 "nbformat": 4,
 "nbformat_minor": 4
}
