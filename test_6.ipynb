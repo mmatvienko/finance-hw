{
 "cells": [
  {
   "cell_type": "markdown",
   "metadata": {},
   "source": [
    "# Test 6"
   ]
  },
  {
   "cell_type": "markdown",
   "metadata": {},
   "source": [
    "should be answered by building and calibrating a 10-period Black-Derman-Toy model for the short-rate.\n",
    "\n",
    "Period 1 2 3 4 5 6 7 8 9 10\n",
    "\n",
    "Spot Rate 3.0% 3.1% 3.2% 3.3% 3.4% 3.5% 3.55% 3.6% 3.65% 3.7%\n",
    "\n",
    "Assume that $Z^6_0 = \\frac{100}{(1+r_6)^6}$\n"
   ]
  },
  {
   "cell_type": "code",
   "execution_count": 3,
   "metadata": {},
   "outputs": [],
   "source": [
    "SPOT_RATES = [.03, .031, .032, .033, .034, .035, .0355, .036, .0365, .037]\n",
    "TEST_RATES = [.073, .0762, .081, .0845, .092, .0964, .1012, .1045, .1122, .1155, .1192, .122, .1232]"
   ]
  },
  {
   "cell_type": "code",
   "execution_count": 218,
   "metadata": {},
   "outputs": [],
   "source": [
    "from sympy import *\n",
    "from sympy.solvers import solve\n",
    "from math import exp\n",
    "from scipy.optimize import minimize, minimize_scalar\n",
    "\n",
    "import numpy as np\n",
    "import math\n",
    "\n",
    "class BlackDermanToy():\n",
    "    \"\"\" Black-Derman-Toy Model\n",
    "    The provided b will be assumed to be the same one for all b_i\n",
    "    \"\"\"\n",
    "    def __init__(self, spot_rates, b=0.005, q=0.5):\n",
    "        \"\"\" initialize the black-derman-toy model\n",
    "        spot_rates: list of rates to callibrate the model to\n",
    "        \"\"\"\n",
    "        self.spot_rates = spot_rates\n",
    "        self.a = []\n",
    "        self.b = b\n",
    "        self.P = [[1]]\n",
    "        self.q = q    # useless, everything is assuming q=0.5\n",
    "\n",
    "    def calibrate(self):\n",
    "        \"\"\" Iterate from 1 to len(spot_rates) - 1 and and callibrate a_i\"\"\"        \n",
    "        for i in range(len(self.spot_rates)):\n",
    "            a_i = symbols(f'a_{i+1}', real=True)\n",
    "            \n",
    "            # there will always been a diagonal and straight element\n",
    "            diag = self.get_ep(i, 0, a_i)\n",
    "            straight = self.get_ep(i, i, a_i)\n",
    "            disc = 1/(1+self.spot_rates[i])**(i+1)\n",
    "            \n",
    "            # middle only exists if we are at element 1, meaning we are\n",
    "            # calculating element 2 (has a single middle element)\n",
    "            middle = []\n",
    "            for j in range(i):\n",
    "                eq_ = self.get_ep(i, j, a_i) + self.get_ep(i, j + 1, a_i)\n",
    "                middle.append(eq_)\n",
    "            \n",
    "            # combine diag straight and put the middle equations in the middle\n",
    "            equations = [straight] + middle + [diag]\n",
    "            \n",
    "            # solve the equations    \n",
    "            def func(x):\n",
    "                # this function makes things passable to optimizer\n",
    "                to_solve = sum(equations) - disc\n",
    "                res = to_solve.subs(a_i, x)\n",
    "                return np.float64(abs(res))\n",
    "            \n",
    "            min_res = minimize_scalar(func, method='brent', tol=1e-12)\n",
    "\n",
    "            # get the actual elementary values by sub\n",
    "            elem_val = []\n",
    "            for e in equations:\n",
    "                elem_val.append(e.subs(a_i, min_res.x))\n",
    "            self.P.append(elem_val)\n",
    "            self.a.append(min_res.x)\n",
    "            \n",
    "        return self.a\n",
    "            \n",
    "    def calculate_spot_rates(self):\n",
    "        \"\"\" After calibration, calculate the actual\n",
    "        Spot rate, see what results u get and compare to the\n",
    "        provided values\n",
    "        \"\"\"\n",
    "        calc_rates = []\n",
    "        totals = []\n",
    "        for i in range(1, len(self.P)):\n",
    "            total = sum(self.P[i])\n",
    "            totals.append(total)\n",
    "\n",
    "            total = (1/total)**(1/(i)) - 1\n",
    "            calc_rates.append(total)\n",
    "            \n",
    "        return calc_rates, totals\n",
    "    \n",
    "    def verify_correctness(self):\n",
    "        \"\"\" Compares provided spot rates to ones calculated based on \n",
    "        Elementary prices that were calculated using sovled a_i\n",
    "        \"\"\"\n",
    "        rates, _ = self.calculate_spot_rates()\n",
    "        y = np.array([x for x in rates], dtype=np.float64)\n",
    "        y_ = np.array([x for x in self.spot_rates], dtype=np.float64)\n",
    "        return all(np.isclose(y, y_, atol=1e-4))\n",
    "        \n",
    "    def short_rate(self, a_i, j):\n",
    "        \"\"\" Get the short rate given some a_i, j.\n",
    "        Since the a_i is being calibrated for, it is provided .\n",
    "        Rate is calculated from a_i*exp(b_i*j)\n",
    "        \"\"\"\n",
    "        return a_i*exp(self.b*j)\n",
    "        \n",
    "    def get_ep(self, i, j, a_i):\n",
    "        \"\"\" Returns a sumpy equation that can then be combined\n",
    "        with others, and be solved.\n",
    "        will be discounted for calculation in the next period i.e.\n",
    "        if at period i, will discount by rate from i to i+1\n",
    "        \"\"\"\n",
    "        return self.P[i][j] / (2*(1+self.short_rate(a_i, j)))"
   ]
  },
  {
   "cell_type": "code",
   "execution_count": 219,
   "metadata": {},
   "outputs": [
    {
     "name": "stdout",
     "output_type": "stream",
     "text": [
      "minimized 0.07300000000091542\n",
      "minimized 0.07921105631643956\n",
      "minimized 0.09021161970262603\n",
      "minimized 0.09435703722847047\n",
      "minimized 0.12130200445122505\n",
      "minimized 0.11719204540104386\n",
      "minimized 0.1285012136026727\n",
      "minimized 0.12565908769259113\n",
      "minimized 0.1722831303358626\n",
      "minimized 0.14240360507268132\n",
      "minimized 0.15300901363950664\n",
      "minimized 0.14911035866246333\n",
      "minimized 0.1336330123358195\n"
     ]
    }
   ],
   "source": [
    "bdt = BlackDermanToy(TEST_RATES)\n",
    "a = bdt.calibrate()"
   ]
  },
  {
   "cell_type": "code",
   "execution_count": 220,
   "metadata": {},
   "outputs": [
    {
     "name": "stdout",
     "output_type": "stream",
     "text": [
      "True\n"
     ]
    }
   ],
   "source": [
    "rates, ep = bdt.calculate_spot_rates()\n",
    "print(bdt.verify_correctness())"
   ]
  }
 ],
 "metadata": {
  "kernelspec": {
   "display_name": "Python 3",
   "language": "python",
   "name": "python3"
  },
  "language_info": {
   "codemirror_mode": {
    "name": "ipython",
    "version": 3
   },
   "file_extension": ".py",
   "mimetype": "text/x-python",
   "name": "python",
   "nbconvert_exporter": "python",
   "pygments_lexer": "ipython3",
   "version": "3.8.3"
  }
 },
 "nbformat": 4,
 "nbformat_minor": 4
}
