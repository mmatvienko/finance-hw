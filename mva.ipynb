{
 "cells": [
  {
   "cell_type": "markdown",
   "metadata": {},
   "source": [
    "# Mean-Variance Analysis and CAPM"
   ]
  },
  {
   "cell_type": "code",
   "execution_count": 1,
   "metadata": {},
   "outputs": [],
   "source": [
    "import numpy as np"
   ]
  },
  {
   "cell_type": "code",
   "execution_count": 2,
   "metadata": {},
   "outputs": [],
   "source": [
    "mu = np.array([[.06], [.02], [.04],])\n",
    "V = np.array([[8., -2., 4.], [-2., 2., -2.,], [4., -2., 8.,]])\n",
    "V *= 1e-3\n",
    "r_f = 0.01"
   ]
  },
  {
   "cell_type": "markdown",
   "metadata": {},
   "source": [
    "# q1\n",
    "compute the mean return of only risk assets $x=\\frac{1}{3}(1,1,1)$"
   ]
  },
  {
   "cell_type": "code",
   "execution_count": 3,
   "metadata": {},
   "outputs": [
    {
     "name": "stdout",
     "output_type": "stream",
     "text": [
      "0.039999999999999994\n"
     ]
    }
   ],
   "source": [
    "x = np.array([[1/3, 1/3, 1/3]])\n",
    "ret_mu = sum(mu * x.T)\n",
    "print(ret_mu.item())"
   ]
  },
  {
   "cell_type": "markdown",
   "metadata": {},
   "source": [
    "# q2\n",
    "compute the volatility of the return on same portfolio as above.\n",
    "\n",
    "volatility is $\\sigma_x = 100\\sqrt{x^TVx}$, where $V$ is the covariance matrix.\n",
    "\n",
    "wrong: `73.68, 4.71, 0.22`\n"
   ]
  },
  {
   "cell_type": "code",
   "execution_count": 4,
   "metadata": {},
   "outputs": [
    {
     "data": {
      "text/plain": [
       "4.47"
      ]
     },
     "execution_count": 4,
     "metadata": {},
     "output_type": "execute_result"
    }
   ],
   "source": [
    "var = np.dot(x, np.dot(V, x.T))\n",
    "vol = np.sqrt(var)\n",
    "round(vol.item()*100,2)"
   ]
  },
  {
   "cell_type": "markdown",
   "metadata": {},
   "source": [
    "# q3\n",
    "\n",
    "Compute the mean return on the minimum variance portfolio of just the risky assets.\n",
    "\n",
    "$min$ $x^TVx$ $s.t.$ $\\sum^d_{i=1}x_i=1$"
   ]
  },
  {
   "cell_type": "code",
   "execution_count": 43,
   "metadata": {},
   "outputs": [],
   "source": [
    "from scipy.optimize import minimize\n",
    "\n",
    "def obj(x):\n",
    "    var = np.dot(x, np.dot(V, x.T))\n",
    "    return var\n",
    "\n",
    "cons = ({'type': 'eq', 'fun' : lambda x: np.sum(x) - 1})\n",
    "x_hat = np.array(minimize(obj, list(x), method='SLSQP', constraints=cons).x, ndmin=2)"
   ]
  },
  {
   "cell_type": "code",
   "execution_count": 44,
   "metadata": {},
   "outputs": [
    {
     "name": "stdout",
     "output_type": "stream",
     "text": [
      "0.029999999839164945\n"
     ]
    }
   ],
   "source": [
    "mvr = sum(mu*x_hat.T).item()   # the return on minimum variance portfolio\n",
    "print(mvr)"
   ]
  },
  {
   "cell_type": "markdown",
   "metadata": {},
   "source": [
    "# q4\n",
    "Compute the mean return on the Sharpe optimal portfolio for this market.\n",
    "\n",
    "Recall that we can compute the Sharpe optimal portfolio by taking the risky positions corresponding to any risk aversion parameter and re-scaling them so that the components add up to 1. This procedure is done on the risk-free portfolio worksheet in mvo.xlsx. \n",
    "\n",
    "Another way to compute the Sharpe portfolio is to use the formulas in the Sharpe portfolio worksheet in mvo.xlsx."
   ]
  },
  {
   "cell_type": "code",
   "execution_count": null,
   "metadata": {},
   "outputs": [],
   "source": []
  }
 ],
 "metadata": {
  "kernelspec": {
   "display_name": "Python 3",
   "language": "python",
   "name": "python3"
  },
  "language_info": {
   "codemirror_mode": {
    "name": "ipython",
    "version": 3
   },
   "file_extension": ".py",
   "mimetype": "text/x-python",
   "name": "python",
   "nbconvert_exporter": "python",
   "pygments_lexer": "ipython3",
   "version": "3.8.3"
  }
 },
 "nbformat": 4,
 "nbformat_minor": 4
}
