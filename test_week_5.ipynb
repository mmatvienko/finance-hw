{
 "cells": [
  {
   "cell_type": "markdown",
   "metadata": {},
   "source": [
    "should be answered using `n=10` period binomial model for the short-rate `r_{i,j}`. lattice param is `r_{0,0} = 5%`, `u=1.1`, `d=0.9`, and `q=1-q=1/2`"
   ]
  },
  {
   "cell_type": "code",
   "execution_count": 17,
   "metadata": {},
   "outputs": [],
   "source": [
    "n = 10\n",
    "u = 1.1\n",
    "d = 0.9"
   ]
  },
  {
   "cell_type": "markdown",
   "metadata": {},
   "source": [
    "## Helper Functions"
   ]
  },
  {
   "cell_type": "code",
   "execution_count": 4,
   "metadata": {},
   "outputs": [],
   "source": [
    "def generate_short_rate_lattice(r00, n, u, d):\n",
    "    short_rate = [[r00]]\n",
    "\n",
    "    for i in range(n):\n",
    "        # get the latest\n",
    "        latest_rates = short_rate[-1]\n",
    "        new_rates = []\n",
    "\n",
    "        # go through each short rate and scale it up\n",
    "        for j in range(len(latest_rates)):\n",
    "            new_rate = u * latest_rates[j]\n",
    "            new_rates.append(round(new_rate,5))\n",
    "\n",
    "        # only need one scale down since it \"propogates\"\n",
    "        last = d * latest_rates[-1]\n",
    "        new_rates.append(round(last,5))\n",
    "\n",
    "        # add this periods rates to the lattice\n",
    "        short_rate.append(new_rates)\n",
    "\n",
    "    return short_rate"
   ]
  },
  {
   "cell_type": "markdown",
   "metadata": {},
   "source": [
    "# Q1"
   ]
  },
  {
   "cell_type": "code",
   "execution_count": 240,
   "metadata": {},
   "outputs": [],
   "source": [
    "def generate_zcb_lattice(face_value, periods, short_rate_lattice, qu=0.5, qd=0.5, debug=False):\n",
    "    # create values at maturity (face_value)\n",
    "    lattice = [[face_value]*(periods + 1)]\n",
    "    \n",
    "    # step backward in time\n",
    "    for i in range(periods):\n",
    "        prev_prices = lattice[-1 - i]\n",
    "        curr_short_rate = short_rate_lattice[periods - i  - 1]\n",
    "        period_prices = []\n",
    "        if debug: print(f\"Period {periods - i  - 1}\")\n",
    "       \n",
    "        # go through each state, there are x + 1 states in the xth period\n",
    "        for state in range(periods - i):\n",
    "            discount_rate = 1 / (1 + curr_short_rate[state])\n",
    "            zij = discount_rate*(qu*prev_prices[state] + qd*prev_prices[state + 1])\n",
    "            period_prices.append(zij)\n",
    "            if debug: print(f\"\\tstate {state}\\tshort rate: {curr_short_rate[state]}\\tfirst pp: {prev_prices[state]}\\tsecond pp: {prev_prices[state + 1]}\")\n",
    "        \n",
    "        lattice.insert(0,period_prices)\n",
    "        if debug: print(lattice) \n",
    "\n",
    "    return lattice"
   ]
  },
  {
   "cell_type": "markdown",
   "metadata": {},
   "source": [
    "Price the ZCB that matures at `t=10`"
   ]
  },
  {
   "cell_type": "code",
   "execution_count": 241,
   "metadata": {},
   "outputs": [],
   "source": [
    "short_rate_lattice = generate_short_rate_lattice(.05, 10, u=1.1, d=0.9)"
   ]
  },
  {
   "cell_type": "code",
   "execution_count": 242,
   "metadata": {},
   "outputs": [],
   "source": [
    "zcb = generate_zcb_lattice(100, 10, short_rate_lattice)"
   ]
  },
  {
   "cell_type": "code",
   "execution_count": 243,
   "metadata": {},
   "outputs": [],
   "source": [
    "q1 = zcb[0][0]"
   ]
  },
  {
   "cell_type": "code",
   "execution_count": 244,
   "metadata": {},
   "outputs": [
    {
     "name": "stdout",
     "output_type": "stream",
     "text": [
      "The ZCB can be fairly priced at $61.62\n"
     ]
    }
   ],
   "source": [
    "print(f\"The ZCB can be fairly priced at ${round(q1, 2)}\")"
   ]
  },
  {
   "cell_type": "markdown",
   "metadata": {},
   "source": [
    "# Q2"
   ]
  },
  {
   "cell_type": "code",
   "execution_count": 245,
   "metadata": {},
   "outputs": [],
   "source": [
    "def reduce_forward(forward_lattice, short_rate_lattice, periods, qu=.5, qd=.5, debug=True):\n",
    "    \n",
    "    # go through each time period\n",
    "    for period in range(periods)[::-1]:\n",
    "        new_prices = []\n",
    "        prev_prices = forward_lattice[0]\n",
    "        if debug: print(f\"Period {period}\\tlen curr price: {len(prev_prices) - 1}\")\n",
    "        if debug: print(f\"Previous prices: {prev_prices}\")\n",
    "\n",
    "        # go through each state for the given time period\n",
    "        for state in range(len(prev_prices) - 1):\n",
    "            if debug: print(f\"\\t1st: {period}\\t2nd: {state}\")\n",
    "                \n",
    "            discount_rate = 1/(1 + short_rate_lattice[period][state])\n",
    "            ex_discount_rnp = qu*prev_prices[state] + qd*prev_prices[state + 1]\n",
    "            new_prices.append(discount_rate*ex_discount_rnp)\n",
    "\n",
    "        forward_lattice.insert(0, new_prices)\n",
    "\n",
    "    return forward_lattice"
   ]
  },
  {
   "cell_type": "markdown",
   "metadata": {},
   "source": [
    "Price the forward on the ZCB matures at `t=4` (correct)"
   ]
  },
  {
   "cell_type": "code",
   "execution_count": 246,
   "metadata": {},
   "outputs": [
    {
     "name": "stdout",
     "output_type": "stream",
     "text": [
      "Fair value of the forward is: $74.88\n"
     ]
    }
   ],
   "source": [
    "forward = reduce_forward([zcb[4]], short_rate_lattice, 4, debug=False)\n",
    "q2 = forward[0][0]*100/generate_zcb_lattice(100, 4, short_rate_lattice)[0][0]\n",
    "print(f\"Fair value of the forward is: ${round(q2, 2)}\")"
   ]
  },
  {
   "cell_type": "markdown",
   "metadata": {},
   "source": [
    "# Q3"
   ]
  },
  {
   "cell_type": "code",
   "execution_count": 247,
   "metadata": {},
   "outputs": [],
   "source": [
    "def reduce_future(future_lattice, periods, qu=.5, qd=.5):\n",
    "    \n",
    "    for period in range(periods)[::-1]:\n",
    "        prev_prices = future_lattice[0]\n",
    "        new_prices = []\n",
    "        for state in range(len(prev_prices) - 1):\n",
    "            new_price = qu*prev_prices[state] + qd*prev_prices[state + 1]\n",
    "            new_prices.append(new_price)\n",
    "\n",
    "        future_lattice.insert(0, new_prices)\n",
    "\n",
    "    return future_lattice"
   ]
  },
  {
   "cell_type": "markdown",
   "metadata": {},
   "source": [
    "Price the future on the ZCB matures at `t=4` (correct)"
   ]
  },
  {
   "cell_type": "code",
   "execution_count": 248,
   "metadata": {},
   "outputs": [],
   "source": [
    "zcb = generate_zcb_lattice(100, 10, short_rate_lattice)\n",
    "future_prices = reduce_future([zcb[4]], 4, qu=.5, qd=.5)\n"
   ]
  },
  {
   "cell_type": "code",
   "execution_count": 249,
   "metadata": {},
   "outputs": [],
   "source": [
    "q3 = future_prices[0][0]"
   ]
  },
  {
   "cell_type": "code",
   "execution_count": 250,
   "metadata": {},
   "outputs": [
    {
     "name": "stdout",
     "output_type": "stream",
     "text": [
      "The fair value of the future is: $74.82\n"
     ]
    }
   ],
   "source": [
    "print(f\"The fair value of the future is: ${round(q3, 2)}\")"
   ]
  },
  {
   "cell_type": "markdown",
   "metadata": {},
   "source": [
    "# Q4"
   ]
  },
  {
   "cell_type": "markdown",
   "metadata": {},
   "source": [
    "Price of american call option, option expires in `n=6` and `strike=80` (correct)"
   ]
  },
  {
   "cell_type": "code",
   "execution_count": 264,
   "metadata": {},
   "outputs": [],
   "source": [
    "def reduce_call(values, underlying, short_rate_lattice, n=6, K=80, qu=.5, qd=.5, american=True, debug=False):\n",
    "    for period in range(n)[::-1]:\n",
    "        # get the necessary information for this period\n",
    "        curr_underlying = underlying[period]\n",
    "        curr_short_rates = short_rate_lattice[period]\n",
    "        previous_values = values[0]\n",
    "        \n",
    "        new_results = []\n",
    "        \n",
    "        for state in range(period + 1):\n",
    "            discount_rate = 1/(1 + curr_short_rates[state])\n",
    "            risk_neutral_val = (qu*previous_values[state] + qd*previous_values[state + 1])*discount_rate\n",
    "            \n",
    "            if american:\n",
    "                val = max(max(curr_underlying[state] - K, 0), risk_neutral_val)\n",
    "            else:\n",
    "                val = max(0, risk_neutral_val)\n",
    "\n",
    "            new_results.append(val)\n",
    "        \n",
    "        values.insert(0, new_results)\n",
    "    return values"
   ]
  },
  {
   "cell_type": "code",
   "execution_count": 272,
   "metadata": {},
   "outputs": [
    {
     "name": "stdout",
     "output_type": "stream",
     "text": [
      "The fair value of the american call on the ZCB is $2.36\n"
     ]
    }
   ],
   "source": [
    "n = 6\n",
    "K = 80\n",
    "\n",
    "underlying = zcb[6]\n",
    "option_prices = []\n",
    "\n",
    "# build all the final values for the option\n",
    "for price in underlying:\n",
    "    option_value = max(price - K, 0)\n",
    "    option_prices.append(option_value)\n",
    "    \n",
    "option_prices = [option_prices]\n",
    "\n",
    "# reduce the american call to the final value\n",
    "american_call = reduce_call(option_prices, zcb, short_rate_lattice, n=6, K=80, american=True, debug=False)\n",
    "q4 = american_call[0][0]\n",
    "print(f\"The fair value of the american call on the ZCB is ${round(q4, 2)}\")"
   ]
  },
  {
   "cell_type": "markdown",
   "metadata": {},
   "source": [
    "# Q5"
   ]
  },
  {
   "cell_type": "markdown",
   "metadata": {},
   "source": [
    "Calc init value of forward-starting swap that begins at `t=1` with maturity `t=10` and a fixed rate of `4.5%`. Payments take plac ein arrears. Notional of 1,000,000.\n",
    "correct answer in test is: 33374"
   ]
  },
  {
   "cell_type": "code",
   "execution_count": 308,
   "metadata": {},
   "outputs": [],
   "source": [
    "def reduce_swap(fixed_rate, short_rate_lattice, start=1, periods=10, qu=.5, qd=.5, debug=True):\n",
    "    # once start time is achieve, just reduce using RNP\n",
    "    # at the very end, only coupon is calc'ed \n",
    "    # in the middle, both coupon and underlying (RNP) are combined\n",
    "\n",
    "    def coupon(period, state):\n",
    "        # base on some period and state, gets the coupon payment\n",
    "        rate = short_rate_lattice[period][state]\n",
    "        coupon = (rate - fixed_rate)/(1 + rate)\n",
    "\n",
    "        return coupon\n",
    "        \n",
    "    if debug: print(\"started at the end\")\n",
    "    # build the final values that will be reduced\n",
    "    swap_lattice = []\n",
    "    for state in range(periods + 1):\n",
    "        swap_lattice.append(coupon(periods, state))\n",
    "\n",
    "    swap_lattice = [swap_lattice]\n",
    "    if debug: print(swap_lattice[0])\n",
    "\n",
    "    if debug: print(\"started middle\")\n",
    "    # reduce the swap intermediate part of the swap\n",
    "    for period in range(start, periods)[::-1]:\n",
    "        prev_coupon = swap_lattice[0] \n",
    "        new_coupon = []\n",
    "    \n",
    "        \n",
    "        for state in range(period + 1):\n",
    "            rate = short_rate_lattice[period][state]\n",
    "            discount_rate = 1/(1 + rate)\n",
    "            coupon = (rate - fixed_rate)\n",
    "            \n",
    "            rnp = (coupon + qu*prev_coupon[state] + qd*prev_coupon[state+1])*discount_rate\n",
    "            new_coupon.append(rnp)\n",
    "            \n",
    "        swap_lattice.insert(0, new_coupon)\n",
    "        if debug: print(swap_lattice[0])\n",
    "\n",
    "   \n",
    "    if debug: print(\"started the beginning part\")\n",
    "    # fill in the end if there's anything to do\n",
    "    for i in range(start)[::-1]:\n",
    "        prev_coupon = swap_lattice[0] \n",
    "        new_coupon = []\n",
    "\n",
    "        for state in range(i + 1):\n",
    "            discount_rate = 1/(1 + short_rate_lattice[i][state])\n",
    "            rnp = (qu*prev_coupon[state] + qd*prev_coupon[state+1])*discount_rate\n",
    "\n",
    "            new_coupon.append(rnp)\n",
    "\n",
    "        swap_lattice.insert(0, new_coupon)\n",
    "        if debug: print(swap_lattice[0])\n",
    "\n",
    "\n",
    "    return swap_lattice"
   ]
  },
  {
   "cell_type": "code",
   "execution_count": 366,
   "metadata": {},
   "outputs": [
    {
     "name": "stdout",
     "output_type": "stream",
     "text": [
      "0.05\n"
     ]
    }
   ],
   "source": [
    "ps = 10\n",
    "short_rate_lattice = generate_short_rate_lattice(.05, ps, u=1.1, d=0.9)\n",
    "swap_lattice = reduce_swap(.045, short_rate_lattice, periods=ps, start=1, debug=False)\n",
    "q5 = round(swap_lattice[0][0]*1_000_000,0)"
   ]
  },
  {
   "cell_type": "code",
   "execution_count": 360,
   "metadata": {},
   "outputs": [
    {
     "name": "stdout",
     "output_type": "stream",
     "text": [
      "The fair price on the forward-starting swap is $33391.0\n"
     ]
    }
   ],
   "source": [
    "print(f\"The fair price on the forward-starting swap is ${q5}\")"
   ]
  },
  {
   "cell_type": "markdown",
   "metadata": {},
   "source": [
    "## Price using elementary pricing"
   ]
  },
  {
   "cell_type": "markdown",
   "metadata": {},
   "source": [
    "Use forward equations to generate and elementary price lattice. Use this to value the same forward starting swap as above. "
   ]
  },
  {
   "cell_type": "code",
   "execution_count": 361,
   "metadata": {},
   "outputs": [],
   "source": [
    "def generate_elementary_prices(srl, periods=10):\n",
    "    # srl is the short rate lattice\n",
    "    P = [[1]]\n",
    "\n",
    "    def p_k_s(k, s):\n",
    "        # find some elementary security at time k+1 and state s\n",
    "        # going to the right anywhere but bottom\n",
    "        first = P[k-1][s-1]/(2*(1 + srl[k-1][s-1]))\n",
    "        second = P[k-1][s]/(2*(1 + srl[k-1][s]))\n",
    "        return first + second\n",
    "    \n",
    "    def p_k_0(k):\n",
    "        # going to the right at the bottom\n",
    "        num = P[k - 1][0]\n",
    "        den = 2*(1+srl[k - 1][0])\n",
    "        return num / den\n",
    "    \n",
    "    def p_k_k(k):\n",
    "        # going diagonally at the top\n",
    "        num = P[k-1][k-1]\n",
    "        den = 2*(1 + srl[k-1][k-1])\n",
    "        return num / den\n",
    "    \n",
    "    for k in range(1, periods + 1):\n",
    "        new_period = []\n",
    "        \n",
    "        # do bottom\n",
    "        new_period.append(p_k_0(k))\n",
    "\n",
    "        # do i - 1 middle items\n",
    "        for s in range(1, k):\n",
    "            new_period.append(p_k_s(k, s))\n",
    "        \n",
    "        # do top\n",
    "        new_period.append(p_k_k(k))\n",
    "        \n",
    "        P.append(new_period)\n",
    "        \n",
    "    return P"
   ]
  },
  {
   "cell_type": "code",
   "execution_count": 362,
   "metadata": {},
   "outputs": [],
   "source": [
    "def forward_starting_swap(fixed_rate, short_rate_lattice, ep, start=1, periods=10, debug=False):\n",
    "    # ep are elementary prices\n",
    "    \n",
    "    value = 0\n",
    "    for period in range(start, periods + 1):\n",
    "        if debug: print(f\"period: {period}\")\n",
    "        for i in range(len(short_rate_lattice[period])):\n",
    "            \n",
    "            short_rate = short_rate_lattice[period][i]\n",
    "            val = (short_rate - fixed_rate)/(1+short_rate)\n",
    "            if debug: print(f\"\\t({fixed_rate} - {short_rate})/{(1+short_rate)} * {ep[period][i]}\")\n",
    "            value += val*ep[period][i]\n",
    "\n",
    "            \n",
    "    return value"
   ]
  },
  {
   "cell_type": "code",
   "execution_count": 365,
   "metadata": {},
   "outputs": [
    {
     "name": "stdout",
     "output_type": "stream",
     "text": [
      "The initial value of the swap is $33391\n"
     ]
    }
   ],
   "source": [
    "pers = 10\n",
    "short_rate_lattice = generate_short_rate_lattice(.05, pers, u=1.1, d=0.9)\n",
    "elementary_prices = generate_elementary_prices(short_rate_lattice, periods=pers)\n",
    "swap_val = forward_starting_swap(0.045, short_rate_lattice, elementary_prices, periods=pers, start=1, debug=False)\n",
    "print(f\"The initial value of the swap is ${round(swap_val*1000000)}\")"
   ]
  },
  {
   "cell_type": "markdown",
   "metadata": {},
   "source": [
    "# Q6"
   ]
  },
  {
   "cell_type": "markdown",
   "metadata": {},
   "source": [
    "Compute the initial price of a swaption with strike `0` and that matures at `t=5`. Once exercised, all future cash flows of the swap are received. Same swap as mentioned above."
   ]
  },
  {
   "cell_type": "code",
   "execution_count": 356,
   "metadata": {},
   "outputs": [],
   "source": [
    "values = [[max(x, 0)for x in swap_lattice[5]]]\n",
    "call = reduce_call(values, swap_lattice, short_rate_lattice, n=5, K=0, qu=.5, qd=.5, american=False, debug=False)"
   ]
  },
  {
   "cell_type": "code",
   "execution_count": 357,
   "metadata": {},
   "outputs": [
    {
     "name": "stdout",
     "output_type": "stream",
     "text": [
      "Value of the swaptions is $26315\n"
     ]
    }
   ],
   "source": [
    "actual_q6 = 26311\n",
    "q6 = round(call[0][0]*1_000_000)\n",
    "print(f\"Value of the swaption is ${q6}\")"
   ]
  },
  {
   "cell_type": "code",
   "execution_count": 358,
   "metadata": {},
   "outputs": [
    {
     "name": "stdout",
     "output_type": "stream",
     "text": [
      "Inaccuracy of answer for Q5: 0.051%\n",
      "Inaccuracy of answer for Q6: 0.015%\n"
     ]
    }
   ],
   "source": [
    "print(f\"Inaccuracy of answer for Q5: {round((1-33374/q5)*100,3)}%\")\n",
    "print(f\"Inaccuracy of answer for Q6: {round((1-actual_q6/q6)*100,3)}%\")"
   ]
  },
  {
   "cell_type": "code",
   "execution_count": null,
   "metadata": {},
   "outputs": [],
   "source": []
  }
 ],
 "metadata": {
  "kernelspec": {
   "display_name": "Python 3",
   "language": "python",
   "name": "python3"
  },
  "language_info": {
   "codemirror_mode": {
    "name": "ipython",
    "version": 3
   },
   "file_extension": ".py",
   "mimetype": "text/x-python",
   "name": "python",
   "nbconvert_exporter": "python",
   "pygments_lexer": "ipython3",
   "version": "3.7.4"
  }
 },
 "nbformat": 4,
 "nbformat_minor": 4
}
