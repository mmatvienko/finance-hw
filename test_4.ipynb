{
 "cells": [
  {
   "cell_type": "markdown",
   "metadata": {},
   "source": [
    "# Option Pricing with Binomial Model"
   ]
  },
  {
   "cell_type": "code",
   "execution_count": 1,
   "metadata": {},
   "outputs": [],
   "source": [
    "import numpy as np\n",
    "from math import comb\n",
    "import math"
   ]
  },
  {
   "cell_type": "markdown",
   "metadata": {},
   "source": [
    "should be answered by building a 15-period binomial model whose parameters should be calibrated to a Black-Scholes geometric Brownian motion model with: T= .25, S_0 = 100, r = 2%, \\sigma = 30%, dividend yield of c = 1%.\n",
    "\n",
    "Binomial model should have u = 1.0395"
   ]
  },
  {
   "cell_type": "markdown",
   "metadata": {},
   "source": [
    "Define constants that are given"
   ]
  },
  {
   "cell_type": "code",
   "execution_count": 2,
   "metadata": {},
   "outputs": [],
   "source": [
    "T = .25\n",
    "S0 = 100\n",
    "r = 0.02\n",
    "sigma = .3\n",
    "c = .01\n",
    "n = 15 # of periods"
   ]
  },
  {
   "cell_type": "markdown",
   "metadata": {},
   "source": [
    "Calibrate binomial model parameter using Black-Scholes"
   ]
  },
  {
   "cell_type": "code",
   "execution_count": 3,
   "metadata": {},
   "outputs": [],
   "source": [
    "dt = T/n   # the size of each period"
   ]
  },
  {
   "cell_type": "code",
   "execution_count": 4,
   "metadata": {},
   "outputs": [],
   "source": [
    "Rn = np.exp(r*dt)                          # the estimated interest rate in an n period model\n",
    "un = np.exp(sigma*dt**0.5)                 # up move per period\n",
    "dn = 1/un                                  # down move per period\n",
    "qn = (np.exp((r - c)*dt) - dn) / (un - dn) # risk neutral probability"
   ]
  },
  {
   "cell_type": "markdown",
   "metadata": {},
   "source": [
    "### Q1"
   ]
  },
  {
   "cell_type": "code",
   "execution_count": 5,
   "metadata": {},
   "outputs": [],
   "source": [
    "K = 110\n",
    "C0 = (1/Rn**n) * sum([comb(n, j)*qn**j*(1-qn)**(n-j)*max(S0*un**j*dn**(n-j) - K, 0) for j in range(n)])"
   ]
  },
  {
   "cell_type": "code",
   "execution_count": 6,
   "metadata": {},
   "outputs": [
    {
     "name": "stdout",
     "output_type": "stream",
     "text": [
      "The value of a european call option is $2.60 (apparently the right answer)\n"
     ]
    }
   ],
   "source": [
    "print(f\"The value of a european call option is ${C0:.2f} (apparently the right answer)\")"
   ]
  },
  {
   "cell_type": "code",
   "execution_count": 7,
   "metadata": {},
   "outputs": [],
   "source": [
    "def reduce_call(values, prices, n=15, american=True, debug=False):\n",
    "    # values is a list of list with option values at each time period\n",
    "    results = values[0]\n",
    "    depth = n - len(values)\n",
    "    if debug:\n",
    "        print(f\"len: {len(prices)}\\tdepth: {depth}\")\n",
    "\n",
    "    if american:\n",
    "        prev_prices = prices[depth]\n",
    "\n",
    "    early = False\n",
    "\n",
    "    # the last layer of the binomial lattice and takes a step back\n",
    "    new_results = []\n",
    "    for i in range(len(results) - 1):\n",
    "        # get the value of the option if continues\n",
    "        risk_neutral_values = (qn*results[i] + (1-qn)*results[i + 1])/Rn\n",
    "        if debug:\n",
    "            print(f\"RNV: {risk_neutral_values:.2f}\\tRes{i}: {results[i]:.2f}\\tRes{i+1}: {results[i+1]:.2f}\")\n",
    "            if american: print(f\"Prev price: {prev_prices[i]:.2f}\\tearly exec gain: {prev_prices[i] - K:.2f}\")\n",
    "        # the risk neutral value, i.e. executing the options or continuing\n",
    "        if american:\n",
    "            val = max(max(prev_prices[i] - K,0), risk_neutral_values)\n",
    "            if val == prev_prices[i] - K:\n",
    "                early = True\n",
    "        else:\n",
    "            val = max(0, risk_neutral_values)\n",
    "        new_results.append(val)\n",
    "        \n",
    "    values.insert(0, new_results)\n",
    "    return values, early"
   ]
  },
  {
   "cell_type": "code",
   "execution_count": 8,
   "metadata": {},
   "outputs": [],
   "source": [
    "def build_lattice():\n",
    "    lattice = []\n",
    "    \n",
    "    # how far down the lattice we are\n",
    "    for k in range(n + 1):\n",
    "        subprices = []\n",
    "\n",
    "        # generate all the vertical values\n",
    "        for i in range(k + 1):\n",
    "            subprice = S0*un**(k-i)*dn**(i)\n",
    "            subprices.append(subprice)\n",
    "            \n",
    "        lattice.append(subprices)\n",
    "\n",
    "    return lattice"
   ]
  },
  {
   "cell_type": "code",
   "execution_count": 9,
   "metadata": {},
   "outputs": [],
   "source": [
    "lattice = build_lattice()"
   ]
  },
  {
   "cell_type": "code",
   "execution_count": 10,
   "metadata": {},
   "outputs": [],
   "source": [
    "# generate the final prices that will be at the end of the lattice\n",
    "P_final = []\n",
    "\n",
    "for i in range(n + 1):\n",
    "    subprice = S0*un**(n-i)*dn**(i) - K # should be expiry value\n",
    "    P_final.append(max(subprice, 0))\n",
    "P_final = [P_final]\n",
    "\n",
    "for i in range(n):\n",
    "    P_final, _ = reduce_call(P_final, lattice)\n",
    "call_price = P_final[0][0]"
   ]
  },
  {
   "cell_type": "code",
   "execution_count": 11,
   "metadata": {},
   "outputs": [
    {
     "name": "stdout",
     "output_type": "stream",
     "text": [
      "Value of the american call option is $2.60\n"
     ]
    }
   ],
   "source": [
    "print(f\"Value of the american call option is ${call_price:.2f}\")\n",
    "Q1 = round(call_price, 2)"
   ]
  },
  {
   "cell_type": "markdown",
   "metadata": {},
   "source": [
    "### Q2"
   ]
  },
  {
   "cell_type": "markdown",
   "metadata": {},
   "source": [
    "Compute the price of an American put option with strike K=110 and maturity T=0.25"
   ]
  },
  {
   "cell_type": "code",
   "execution_count": 12,
   "metadata": {},
   "outputs": [],
   "source": [
    "def reduce_put(values, prices, american=True):\n",
    "    early_exec = False\n",
    "    \n",
    "    # values is a list of list with option values at each time period\n",
    "    results = values[0]\n",
    "    depth = n - len(values)\n",
    "    prices = lattice[depth]\n",
    "    prev_prices = lattice[depth]\n",
    "    \n",
    "    # the last layer of the binomial lattice and takes a step back\n",
    "    new_results = []\n",
    "    for i in range(len(results) - 1):\n",
    "        # get the value of the option if continues\n",
    "        risk_neutral_values = (qn*results[i] + (1-qn)*results[i + 1])/Rn\n",
    "\n",
    "        # the risk neutral value, i.e. executing the options or continuing\n",
    "        if american:\n",
    "            val = max(max(K - prev_prices[i], 0), risk_neutral_values)\n",
    "            if val == K - prev_prices[i]:\n",
    "                early_exec = True\n",
    "        else:\n",
    "            val = max(0, risk_neutral_values)\n",
    "        new_results.append(val)\n",
    "        \n",
    "    values.insert(0, new_results)\n",
    "    return values, early_exec"
   ]
  },
  {
   "cell_type": "code",
   "execution_count": 13,
   "metadata": {},
   "outputs": [],
   "source": [
    "# generate the final prices that will be at the end of the lattice\n",
    "P_final = []\n",
    "\n",
    "for i in range(n + 1):\n",
    "    subprice = K - S0*un**(n-i)*dn**(i) # should be expiry value\n",
    "    P_final.append(max(subprice, 0))\n",
    "P_final = [P_final]\n",
    "\n",
    "early = False\n",
    "exercise_period = n\n",
    "\n",
    "for i in range(n):\n",
    "    P_final, early_exec = reduce_put(P_final, lattice)\n",
    "    if early_exec:\n",
    "        early = True\n",
    "        exercise_period = n - 1 - i   # since we are guranteed to be in a lower period\n",
    "\n",
    "put_price = P_final[0][0]"
   ]
  },
  {
   "cell_type": "code",
   "execution_count": 14,
   "metadata": {},
   "outputs": [
    {
     "name": "stdout",
     "output_type": "stream",
     "text": [
      "the put price is $12.36\n"
     ]
    }
   ],
   "source": [
    "Q2 = round(put_price, 2)\n",
    "print(f\"the put price is ${put_price:.2f}\")"
   ]
  },
  {
   "cell_type": "markdown",
   "metadata": {},
   "source": [
    "# Q3"
   ]
  },
  {
   "cell_type": "code",
   "execution_count": 15,
   "metadata": {},
   "outputs": [
    {
     "name": "stdout",
     "output_type": "stream",
     "text": [
      "You should early exercise\n"
     ]
    }
   ],
   "source": [
    "Q3 = 'should' if early else 'should not'\n",
    "print(f\"You {'should' if early else 'should not'} early exercise\")"
   ]
  },
  {
   "cell_type": "markdown",
   "metadata": {},
   "source": [
    "# Q4"
   ]
  },
  {
   "cell_type": "code",
   "execution_count": 16,
   "metadata": {},
   "outputs": [
    {
     "name": "stdout",
     "output_type": "stream",
     "text": [
      "Earliest exercise period is period 5\n"
     ]
    }
   ],
   "source": [
    "Q4 = exercise_period\n",
    "print(f\"Earliest exercise period is period {exercise_period}\")"
   ]
  },
  {
   "cell_type": "markdown",
   "metadata": {},
   "source": [
    "# Q5"
   ]
  },
  {
   "cell_type": "markdown",
   "metadata": {},
   "source": [
    "Do the options satisfy the put-call parity"
   ]
  },
  {
   "cell_type": "code",
   "execution_count": 17,
   "metadata": {},
   "outputs": [],
   "source": [
    "left = put_price + S0*np.exp(-1*c*T)\n",
    "right = call_price + K*np.exp(-1*r*T)"
   ]
  },
  {
   "cell_type": "code",
   "execution_count": 18,
   "metadata": {},
   "outputs": [
    {
     "name": "stdout",
     "output_type": "stream",
     "text": [
      "left: 112.11009703703091 -vs- right: 112.0554498441616\n"
     ]
    }
   ],
   "source": [
    "print(f'left: {left} -vs- right: {right}')\n",
    "Q5 = \"Yes\" if left == right else \"No\""
   ]
  },
  {
   "cell_type": "markdown",
   "metadata": {},
   "source": [
    " No, put call parity is not satisfied."
   ]
  },
  {
   "cell_type": "markdown",
   "metadata": {},
   "source": [
    "# Q6"
   ]
  },
  {
   "cell_type": "markdown",
   "metadata": {},
   "source": [
    "Compute the fair value of an american call with strike K=110 and maturaity n = 10. Writen on future that expires in 15 periods."
   ]
  },
  {
   "cell_type": "markdown",
   "metadata": {},
   "source": [
    "Creat the futures price lattice"
   ]
  },
  {
   "cell_type": "code",
   "execution_count": 19,
   "metadata": {},
   "outputs": [],
   "source": [
    "P_final = []\n",
    "for i in range(n + 1):\n",
    "    subprice = S0*un**(n-i)*dn**(i) # should be expiry value\n",
    "    P_final.append(max(subprice, 0))\n",
    "P_final = [P_final]"
   ]
  },
  {
   "cell_type": "code",
   "execution_count": 20,
   "metadata": {},
   "outputs": [],
   "source": [
    "def reduce_futures(prices):\n",
    "    results = prices[0]\n",
    "    \n",
    "    # the last layer of the binomial lattice and takes a step back\n",
    "    new_results = []\n",
    "    for i in range(len(results) - 1):\n",
    "        # get the value of the option if continues\n",
    "        risk_neutral_values = (qn*results[i] + (1-qn)*results[i + 1])    # why no \"/R\"?\n",
    "        new_results.append(risk_neutral_values)\n",
    "        \n",
    "    prices.insert(0, new_results)\n",
    "    return prices"
   ]
  },
  {
   "cell_type": "code",
   "execution_count": 21,
   "metadata": {},
   "outputs": [],
   "source": [
    "for i in range(n):\n",
    "    P_final = reduce_futures(P_final)"
   ]
  },
  {
   "cell_type": "code",
   "execution_count": 22,
   "metadata": {},
   "outputs": [],
   "source": [
    "futures_lattice = P_final[:11]"
   ]
  },
  {
   "cell_type": "code",
   "execution_count": 23,
   "metadata": {},
   "outputs": [],
   "source": [
    "call_lattice = [[max(x - K, 0) for x in futures_lattice[-1]]]\n",
    "earliest = 10\n",
    "for i in range(10):\n",
    "    call_lattice, early = reduce_call(call_lattice, futures_lattice, n=10)\n",
    "    if early:\n",
    "        earliest = 9 - i\n"
   ]
  },
  {
   "cell_type": "code",
   "execution_count": 24,
   "metadata": {},
   "outputs": [
    {
     "name": "stdout",
     "output_type": "stream",
     "text": [
      "The price of the call on the future is $1.66\n"
     ]
    }
   ],
   "source": [
    "Q6 = round(call_lattice[0][0], 2)\n",
    "print(f\"The price of the call on the future is ${Q6}\")"
   ]
  },
  {
   "cell_type": "markdown",
   "metadata": {},
   "source": [
    "# Q7"
   ]
  },
  {
   "cell_type": "markdown",
   "metadata": {},
   "source": [
    "What is the earliest time period in which you might want to exercise the American futures option of Q6?"
   ]
  },
  {
   "cell_type": "code",
   "execution_count": 25,
   "metadata": {},
   "outputs": [
    {
     "name": "stdout",
     "output_type": "stream",
     "text": [
      "Might want to exercise at period: 7\n"
     ]
    }
   ],
   "source": [
    "Q7 = earliest\n",
    "print(f'Might want to exercise at period: {Q7}')"
   ]
  },
  {
   "cell_type": "markdown",
   "metadata": {},
   "source": [
    "# Q8"
   ]
  },
  {
   "cell_type": "markdown",
   "metadata": {},
   "source": [
    "Compute the value of a chooser option which expires after n = 10. At expiry owner chooses between a european call or put. call and put K = 100, n = 15"
   ]
  },
  {
   "cell_type": "code",
   "execution_count": 38,
   "metadata": {},
   "outputs": [],
   "source": [
    "K = 100\n",
    "# set for 10 periods\n",
    "n=15\n",
    "dt = T/n   # the size of each period\n",
    "Rn = np.exp(r*dt)                          # the estimated interest rate in an n period model\n",
    "un = np.exp(sigma*dt**0.5)                 # up move per period\n",
    "dn = 1/un                                  # down move per period\n",
    "qn = (np.exp((r - c)*dt) - dn) / (un - dn) # risk neutral probability\n",
    "\n",
    "# generate the final prices that will be at the end of the lattice\n",
    "call_exec_value = []\n",
    "put_exec_value = []\n",
    "for i in range(n + 1):\n",
    "    subprice = S0*un**(n-i)*dn**(i) - K # should be expiry value\n",
    "    put_subprice = K - S0*un**(n-i)*dn**(i)\n",
    "    call_exec_value.append(max(subprice, 0))\n",
    "    put_exec_value.append(max(put_subprice, 0))\n",
    "    \n",
    "put_exec_value = [put_exec_value]\n",
    "call_exec_value = [call_exec_value]"
   ]
  },
  {
   "cell_type": "code",
   "execution_count": 39,
   "metadata": {},
   "outputs": [],
   "source": [
    "n = 15\n",
    "for i in range(n):\n",
    "    call_exec_value, _ = reduce_call(call_exec_value, [], american=False, n=15)\n",
    "\n",
    "\n",
    "for i in range(n):\n",
    "    put_exec_value, _ = reduce_put(put_exec_value, [], american=False)\n",
    "    "
   ]
  },
  {
   "cell_type": "code",
   "execution_count": 44,
   "metadata": {},
   "outputs": [],
   "source": [
    "# set for 10 periods\n",
    "n=10\n",
    "# dt = T/n   # the size of each period\n",
    "# Rn = np.exp(r*dt)                          # the estimated interest rate in an n period model\n",
    "# un = np.exp(sigma*dt**0.5)                 # up move per period\n",
    "# dn = 1/un                                  # down move per period\n",
    "# qn = (np.exp((r - c)*dt) - dn) / (un - dn) # risk neutral probability\n",
    "\n",
    "last_call = call_exec_value[n]\n",
    "last_put = put_exec_value[n]\n",
    "\n",
    "prices = [[max(x, y) for x, y in zip(last_call, last_put)]]"
   ]
  },
  {
   "cell_type": "code",
   "execution_count": 45,
   "metadata": {},
   "outputs": [
    {
     "name": "stdout",
     "output_type": "stream",
     "text": [
      "[[47.34341646977959, 36.37349148073286, 26.221216976064902, 16.953365416112103, 9.118798112983885, 3.6667757928995517, 8.308878288623301, 14.370587611723995, 20.634933129113413, 26.538047676675575, 32.00116974717185]]\n"
     ]
    }
   ],
   "source": [
    "print(prices)\n",
    "\n",
    "for i in range(n):\n",
    "    prices, _ = reduce_call(prices, [], n=10, american=False)"
   ]
  },
  {
   "cell_type": "code",
   "execution_count": 46,
   "metadata": {},
   "outputs": [
    {
     "name": "stdout",
     "output_type": "stream",
     "text": [
      "Price of chooser is $10.8\n"
     ]
    }
   ],
   "source": [
    "Q8 = round(prices[0][0], 2)\n",
    "print(f'Price of chooser is ${Q8}')"
   ]
  },
  {
   "cell_type": "code",
   "execution_count": 47,
   "metadata": {},
   "outputs": [
    {
     "name": "stdout",
     "output_type": "stream",
     "text": [
      "Q1\t2.6\n",
      "Q2\t12.36\n",
      "Q3\tshould\n",
      "Q4\t5\n",
      "Q5\tNo\n",
      "Q6\t1.66\n",
      "Q7\t7\n",
      "Q8\t$10.8\n"
     ]
    }
   ],
   "source": [
    "print(f\"Q1\\t{Q1}\")\n",
    "print(f\"Q2\\t{Q2}\")\n",
    "print(f\"Q3\\t{Q3}\")\n",
    "print(f\"Q4\\t{Q4}\")\n",
    "print(f\"Q5\\t{Q5}\")\n",
    "print(f\"Q6\\t{Q6}\")\n",
    "print(f\"Q7\\t{Q7}\")\n",
    "print(f\"Q8\\t${Q8}\")"
   ]
  },
  {
   "cell_type": "code",
   "execution_count": null,
   "metadata": {},
   "outputs": [],
   "source": []
  },
  {
   "cell_type": "code",
   "execution_count": null,
   "metadata": {},
   "outputs": [],
   "source": []
  }
 ],
 "metadata": {
  "kernelspec": {
   "display_name": "Python 3",
   "language": "python",
   "name": "python3"
  },
  "language_info": {
   "codemirror_mode": {
    "name": "ipython",
    "version": 3
   },
   "file_extension": ".py",
   "mimetype": "text/x-python",
   "name": "python",
   "nbconvert_exporter": "python",
   "pygments_lexer": "ipython3",
   "version": "3.8.3"
  }
 },
 "nbformat": 4,
 "nbformat_minor": 4
}
