{
 "cells": [
  {
   "cell_type": "code",
   "execution_count": 129,
   "metadata": {},
   "outputs": [],
   "source": [
    "import pandas as pd"
   ]
  },
  {
   "cell_type": "markdown",
   "metadata": {},
   "source": [
    "# q1"
   ]
  },
  {
   "cell_type": "markdown",
   "metadata": {},
   "source": [
    "Compute the monthly payment ($B$) on a 30-year level payment mortgage assuming an annual mortgage rate of $5\\%$ and an initial mortgage principal of $\\$400,000$.\n",
    "\n",
    "\n"
   ]
  },
  {
   "cell_type": "code",
   "execution_count": 1,
   "metadata": {},
   "outputs": [],
   "source": [
    "def get_B(c, n, M_0):\n",
    "    \"\"\" Given some coupon rate (c), \n",
    "        number of periods in months(n), \n",
    "        and initial Mortgage principal (M_0),\n",
    "        return the fixed monthly mortgage payment (B)\"\"\"\n",
    "    c /= 12\n",
    "    return (c*(1+c)**n*M_0) / ((1+c)**n - 1)"
   ]
  },
  {
   "cell_type": "code",
   "execution_count": 2,
   "metadata": {},
   "outputs": [],
   "source": [
    "B = get_B(c=.05, n=30*12, M_0=400_000)"
   ]
  },
  {
   "cell_type": "code",
   "execution_count": 10,
   "metadata": {},
   "outputs": [
    {
     "name": "stdout",
     "output_type": "stream",
     "text": [
      "2147.29\n"
     ]
    }
   ],
   "source": [
    "print(round(B, 2))"
   ]
  },
  {
   "cell_type": "code",
   "execution_count": 74,
   "metadata": {},
   "outputs": [],
   "source": [
    "def _cpr(t):\n",
    "    \"\"\"given some month t, \n",
    "    return the proper CPR (conditional prepayment rate) given the PSA benchmark\"\"\"\n",
    "    if t <= 30:\n",
    "        return .06 * (t/30)\n",
    "    return .06\n",
    "\n",
    "def smm(t, psa=100):\n",
    "    \"\"\" given some month t, returnt he single month mortality rate\"\"\"\n",
    "    psa /= 100\n",
    "    return 1-(1-_cpr(t)*psa)**(1/12)\n",
    "\n",
    "def calc_payments(m_0, c, pt, n, s, psa=100):\n",
    "    \"\"\" m_0: initial mortgage balance\n",
    "        c: mortgage rate\n",
    "        pt: pass through rate\n",
    "        n: term of the loan (months)\n",
    "        s: seasoning (months)\n",
    "        psa: prepayment multiplier\n",
    "    \"\"\"\n",
    "    cols = [\"smm\", \n",
    "            \"begin bal\", \n",
    "            \"monthly\", \n",
    "            \"interest paid\", \n",
    "            \"principal paid\",\n",
    "            \"interest pass\"\n",
    "            \"prepayment\",\n",
    "            \"ending bal\",\n",
    "           ]\n",
    "    df = pd.DataFrame([], columns=cols)\n",
    "    \n",
    "    prev_m = m_0\n",
    "    for k in range(s + 1, n + 1):\n",
    "        _smm = smm(k, psa=psa)\n",
    "        b_k = prev_m*((c/12)/(1-(1+c/12)**-(n - s - k + 1)))\n",
    "        i_k = prev_m*(c/12)\n",
    "        p_k = b_k - i_k\n",
    "        passthru = prev_m*pt/12\n",
    "        prep_k = (prev_m - p_k)*_smm\n",
    "        # print(f\"monthly payment: {b_k}, interest payment: {i_k}, principal payment: {p_k}, prepayment: {prep_k}, ending_bal: {prev_m - prep_k - p_k}\")\n",
    "\n",
    "        new_bal = prev_m - prep_k - p_k\n",
    "\n",
    "        to_append = {\n",
    "            \"smm\": str(round(_smm*100,4))+\"%\", \n",
    "            \"begin bal\": prev_m, \n",
    "            \"monthly\": b_k, \n",
    "            \"interest paid\": i_k, \n",
    "            \"principal paid\": p_k,\n",
    "            \"interest pass\": passthru,\n",
    "            \"prepayment\": prep_k,\n",
    "            \"total p\": p_k + prep_k,\n",
    "            \"ending bal\": new_bal,\n",
    "        }\n",
    "        prev_m = new_bal\n",
    "        df = df.append(to_append, ignore_index=True)\n",
    "\n",
    "    return df"
   ]
  },
  {
   "cell_type": "markdown",
   "metadata": {},
   "source": [
    "# q2"
   ]
  },
  {
   "cell_type": "markdown",
   "metadata": {},
   "source": [
    "Consider a $\\$400$ million pass-through MBS that has just been created (so the 'seasoning' of the pass-through is equal to $0$). The underlying pool of mortgages each has a maturity of 20 years and an annual mortgage coupon rate of $6\\%$. The pass-through rate of the mortgage pool is $5\\%$. Assuming a prepayment multiplier of $100$ PSA what is the total amount of interest paid to the pass-through investors?"
   ]
  },
  {
   "cell_type": "markdown",
   "metadata": {},
   "source": [
    "$M_k = M_0\\frac{(1+c)^n-(1+c)^k}{(1+c)^n - 1}$\n",
    "\n",
    "$I_k := cM_{k-1}$"
   ]
  },
  {
   "cell_type": "code",
   "execution_count": 84,
   "metadata": {},
   "outputs": [],
   "source": [
    "pass_through = .05\n",
    "c = .06\n",
    "M_0 = 400_000_000\n",
    "n = 20*12"
   ]
  },
  {
   "cell_type": "code",
   "execution_count": 16,
   "metadata": {},
   "outputs": [],
   "source": [
    "def get_remaining_principal(c, n, k, M_0):\n",
    "    \"\"\" Given some yearly coupon rate with monthly compounding (c),\n",
    "        number of periods in months (n),\n",
    "        current period in months (k),\n",
    "        and some initial principal (M_0)\n",
    "        return a list of remaining principle from kth period\n",
    "    \"\"\"\n",
    "    c /= 12\n",
    "    return M_0* ((1+c)**n - (1+c)**k) / ((1+c)**n - 1)\n",
    "\n",
    "# all_Ik = [get_remaining_principal(c=c, n=n, k=k, M_0=M_0)*c/12 for k in range(periods)]"
   ]
  },
  {
   "cell_type": "code",
   "execution_count": 128,
   "metadata": {},
   "outputs": [
    {
     "data": {
      "text/plain": [
       "171.18"
      ]
     },
     "execution_count": 128,
     "metadata": {},
     "output_type": "execute_result"
    }
   ],
   "source": [
    "mort = calc_payments(m_0=M_0, c=c, pt=pass_through, n=n, s=0, psa=100)\n",
    "round(mort['interest pass'].sum()/1_000_000, 2)"
   ]
  },
  {
   "cell_type": "markdown",
   "metadata": {},
   "source": [
    "# q3"
   ]
  },
  {
   "cell_type": "markdown",
   "metadata": {},
   "source": [
    " Referring to the same mortgage pass-through of the previous question, what is the total amount of the prepayments?"
   ]
  },
  {
   "cell_type": "code",
   "execution_count": 127,
   "metadata": {},
   "outputs": [
    {
     "name": "stdout",
     "output_type": "stream",
     "text": [
      "total prepayment: 181.09\n"
     ]
    }
   ],
   "source": [
    "mort = calc_payments(m_0=M_0, c=c, pt=pass_through, n=n, s=0, psa=100)\n",
    "print(f\"total prepayment: {round(mort['prepayment'].sum()/1_000_000, 2)}\")"
   ]
  },
  {
   "cell_type": "markdown",
   "metadata": {},
   "source": [
    "# q4"
   ]
  },
  {
   "cell_type": "markdown",
   "metadata": {},
   "source": [
    "Referring to the same mortgage pass-through of the previous question, what is the total amount of the prepayments if the rate of prepayments increases to 200 PSA?"
   ]
  },
  {
   "cell_type": "code",
   "execution_count": 126,
   "metadata": {},
   "outputs": [
    {
     "name": "stdout",
     "output_type": "stream",
     "text": [
      "total prepayment: 268.15\n"
     ]
    }
   ],
   "source": [
    "mort = calc_payments(m_0=M_0, c=c, pt=pass_through, n=n, s=0, psa=200)\n",
    "print(f\"total prepayment: {round(mort['prepayment'].sum()/1_000_000, 2)}\")"
   ]
  },
  {
   "cell_type": "markdown",
   "metadata": {},
   "source": [
    "# q5"
   ]
  },
  {
   "cell_type": "markdown",
   "metadata": {},
   "source": [
    "Suppose we construct principal-only (PO) and interest-only (IO) mortgage-backed securities (MBS) using the mortgage pass-through of the previous questions. Assume a prepayment multiplier of 100 PSA. What is the present value of the PO MBS if we use an annual risk-free rate of 4.5% to value the cash-flows?\n",
    "\n",
    "A: 280.1"
   ]
  },
  {
   "cell_type": "code",
   "execution_count": 124,
   "metadata": {},
   "outputs": [],
   "source": [
    "def p0_value(r, n, M_0, c):\n",
    "    \"\"\" calculate the present value of principal\n",
    "        Assuming no prepayment\n",
    "    \"\"\"\n",
    "    r /= 12\n",
    "    c /= 12\n",
    "    frac1 = (c*M_0) / ((1+c)**n - 1)\n",
    "    frac2 = ((1+r)**n - (1+c)**n)/((r-c)*(1+r)**n)\n",
    "    return frac1 * frac2"
   ]
  },
  {
   "cell_type": "code",
   "execution_count": 98,
   "metadata": {},
   "outputs": [
    {
     "name": "stdout",
     "output_type": "stream",
     "text": [
      "280.1\n"
     ]
    }
   ],
   "source": [
    "mort = calc_payments(m_0=M_0, c=c, pt=pass_through, n=n, s=0, psa=100)\n",
    "r = 0.045\n",
    "princ = list(mort['total p'])\n",
    "\n",
    "V_0 = 0\n",
    "for i, p in enumerate(princ):\n",
    "    V_0 += p/(1+r/12)**(i+1)\n",
    "    \n",
    "print(round(V_0/1_000_000, 2))\n"
   ]
  },
  {
   "cell_type": "markdown",
   "metadata": {},
   "source": [
    "# q6"
   ]
  },
  {
   "cell_type": "markdown",
   "metadata": {},
   "source": [
    "Referring to the previous question, what is the value of the IO MBS?\n",
    "\n",
    "A: 133.23"
   ]
  },
  {
   "cell_type": "code",
   "execution_count": null,
   "metadata": {},
   "outputs": [],
   "source": [
    "def F_0(c, r, n, M_0):\n",
    "    c /= 12\n",
    "    r /= 12\n",
    "    frac1 = (c*(1+c)**n * M_0) / ((1+c)**n - 1)\n",
    "    frac2 = ((1+r)**n - 1) / (r*(1+r)**n)\n",
    "    return frac1 * frac2"
   ]
  },
  {
   "cell_type": "code",
   "execution_count": 146,
   "metadata": {},
   "outputs": [
    {
     "name": "stdout",
     "output_type": "stream",
     "text": [
      "133.23\n"
     ]
    }
   ],
   "source": [
    "mort = calc_payments(m_0=M_0, c=c, pt=pass_through, n=n, s=0, psa=100)\n",
    "r = 0.045\n",
    "princ = list(mort['interest pass'])\n",
    "\n",
    "W_0 = 0\n",
    "for i, p in enumerate(princ):\n",
    "    i_ = p/(1+r/12)**(i+1)\n",
    "    W_0 += i_\n",
    "    \n",
    "print(round(W_0/1_000_000, 2))"
   ]
  },
  {
   "cell_type": "markdown",
   "metadata": {},
   "source": [
    "# q7"
   ]
  },
  {
   "cell_type": "markdown",
   "metadata": {},
   "source": [
    "Referring to the previous question, what is the average life of the IO MBS?"
   ]
  },
  {
   "cell_type": "code",
   "execution_count": 152,
   "metadata": {},
   "outputs": [
    {
     "name": "stdout",
     "output_type": "stream",
     "text": [
      "6.01\n"
     ]
    }
   ],
   "source": [
    "mort = calc_payments(m_0=M_0, c=c, pt=pass_through, n=n, s=0, psa=100)\n",
    "r = 0.045\n",
    "ppaid = list(mort['interest pass'])\n",
    "\n",
    "WAL_I = 0\n",
    "tot = 0\n",
    "for i, I_k in enumerate(ppaid):\n",
    "    WAL_I += I_k*(i+1)    # weighted average life, NOT duration\n",
    "    tot += I_k\n",
    "WAL_I /= (12*tot)\n",
    "print(round(WAL_I, 2))"
   ]
  },
  {
   "cell_type": "markdown",
   "metadata": {},
   "source": [
    "# q8"
   ]
  },
  {
   "cell_type": "markdown",
   "metadata": {},
   "source": [
    "Suppose now that you purchased the IO MBS of the previous question and that the price you paid was the same price that you calculated in the previous question. The risk-free interest rate suddenly changes from 4.5% to 3.5%. Everything else stays the same. How much money have you made or lost on your investment?\n",
    "\n",
    "A: 7.17"
   ]
  },
  {
   "cell_type": "code",
   "execution_count": 122,
   "metadata": {},
   "outputs": [
    {
     "name": "stdout",
     "output_type": "stream",
     "text": [
      "7.17\n"
     ]
    }
   ],
   "source": [
    "mort = calc_payments(m_0=M_0, c=c, pt=pass_through, n=n, s=0, psa=100)\n",
    "r = 0.035\n",
    "princ = list(mort['interest pass'])\n",
    "\n",
    "W_0_8 = 0\n",
    "for i, p in enumerate(princ):\n",
    "    i_ = p/(1+r/12)**(i+1)\n",
    "    W_0_8 += i_\n",
    "    \n",
    "print(round((W_0_8-W_0)/1_000_000, 2))"
   ]
  },
  {
   "cell_type": "markdown",
   "metadata": {},
   "source": [
    "# q9"
   ]
  },
  {
   "cell_type": "markdown",
   "metadata": {},
   "source": [
    "Referring to the previous question, suppose the risk-free interest rate suddenly changes from 4.5% to 3.5% and that the pre-payment multiplier changes from 100 PSA to 150 PSA. How much money have you made or lost on your investment in the IO MBS?\n",
    "\n",
    "A: -9.58"
   ]
  },
  {
   "cell_type": "code",
   "execution_count": 123,
   "metadata": {},
   "outputs": [
    {
     "name": "stdout",
     "output_type": "stream",
     "text": [
      "-9.58\n"
     ]
    }
   ],
   "source": [
    "mort = calc_payments(m_0=M_0, c=c, pt=pass_through, n=n, s=0, psa=150)\n",
    "r = 0.035\n",
    "princ = list(mort['interest pass'])\n",
    "\n",
    "W_0_9 = 0\n",
    "for i, p in enumerate(princ):\n",
    "    i_ = p/(1+r/12)**(i+1)\n",
    "    W_0_9 += i_\n",
    "    \n",
    "print(round((W_0_9-W_0)/1_000_000, 2))"
   ]
  },
  {
   "cell_type": "code",
   "execution_count": null,
   "metadata": {},
   "outputs": [],
   "source": []
  }
 ],
 "metadata": {
  "kernelspec": {
   "display_name": "Python 3",
   "language": "python",
   "name": "python3"
  },
  "language_info": {
   "codemirror_mode": {
    "name": "ipython",
    "version": 3
   },
   "file_extension": ".py",
   "mimetype": "text/x-python",
   "name": "python",
   "nbconvert_exporter": "python",
   "pygments_lexer": "ipython3",
   "version": "3.7.4"
  }
 },
 "nbformat": 4,
 "nbformat_minor": 4
}
